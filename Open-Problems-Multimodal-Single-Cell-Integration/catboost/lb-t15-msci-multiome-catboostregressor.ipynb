{
 "cells": [
  {
   "cell_type": "markdown",
   "id": "07b8d8ec",
   "metadata": {
    "papermill": {
     "duration": 0.011989,
     "end_time": "2022-09-14T06:34:15.206381",
     "exception": false,
     "start_time": "2022-09-14T06:34:15.194392",
     "status": "completed"
    },
    "tags": []
   },
   "source": [
    "# **🥈This Notebook now rank 15 in LB!**\n",
    "+ I used `TruncatedSVD(n_components=128, random_state=42)` both on train and test data.\n",
    "+ CatBoostRegressor is used. To save time， only trained on fold_0. Maybe more fold will help to impore score.\n",
    "+ This notebook is based on [FABIEN CROM](https://www.kaggle.com/code/fabiencrom/msci-multiome-quickstart-w-sparse-matrices). Please Upvoted if help !\n",
    "+ Version_1 is a quick submission and version_2_3 show the training process."
   ]
  },
  {
   "cell_type": "code",
   "execution_count": 1,
   "id": "56553a4e",
   "metadata": {
    "_kg_hide-input": true,
    "execution": {
     "iopub.execute_input": "2022-09-14T06:34:15.229879Z",
     "iopub.status.busy": "2022-09-14T06:34:15.229223Z",
     "iopub.status.idle": "2022-09-14T06:34:16.461118Z",
     "shell.execute_reply": "2022-09-14T06:34:16.459872Z"
    },
    "papermill": {
     "duration": 1.247032,
     "end_time": "2022-09-14T06:34:16.464128",
     "exception": false,
     "start_time": "2022-09-14T06:34:15.217096",
     "status": "completed"
    },
    "tags": [],
    "vscode": {
     "languageId": "python"
    }
   },
   "outputs": [],
   "source": [
    "import os, gc, pickle\n",
    "import pandas as pd\n",
    "import matplotlib.pyplot as plt\n",
    "import numpy as np\n",
    "from colorama import Fore, Back, Style\n",
    "from matplotlib.ticker import MaxNLocator\n",
    "\n",
    "from sklearn.base import BaseEstimator, TransformerMixin\n",
    "from sklearn.model_selection import KFold\n",
    "from sklearn.preprocessing import StandardScaler, scale\n",
    "from sklearn.decomposition import PCA, TruncatedSVD\n",
    "from sklearn.dummy import DummyRegressor\n",
    "from sklearn.pipeline import make_pipeline, Pipeline\n",
    "from sklearn.linear_model import Ridge, LinearRegression, Lasso\n",
    "from sklearn.metrics import mean_squared_error\n",
    "\n",
    "import scipy\n",
    "import scipy.sparse\n",
    "\n",
    "import gc\n",
    "import pickle\n",
    "import warnings\n",
    "warnings.filterwarnings('ignore')\n",
    "\n",
    "submission_name = \"citeseq_svd256_wdo+catboost.csv\""
   ]
  },
  {
   "cell_type": "code",
   "execution_count": 2,
   "id": "56c3cf28",
   "metadata": {
    "execution": {
     "iopub.execute_input": "2022-09-14T06:34:16.487624Z",
     "iopub.status.busy": "2022-09-14T06:34:16.486926Z",
     "iopub.status.idle": "2022-09-14T06:34:16.493657Z",
     "shell.execute_reply": "2022-09-14T06:34:16.492773Z"
    },
    "jupyter": {
     "source_hidden": true
    },
    "papermill": {
     "duration": 0.021445,
     "end_time": "2022-09-14T06:34:16.496104",
     "exception": false,
     "start_time": "2022-09-14T06:34:16.474659",
     "status": "completed"
    },
    "tags": [],
    "vscode": {
     "languageId": "python"
    }
   },
   "outputs": [],
   "source": [
    "def correlation_score(y_true, y_pred):\n",
    "    \"\"\"Scores the predictions according to the competition rules. \n",
    "    \n",
    "    It is assumed that the predictions are not constant.\n",
    "    \n",
    "    Returns the average of each sample's Pearson correlation coefficient\"\"\"\n",
    "    if type(y_true) == pd.DataFrame: y_true = y_true.values\n",
    "    if type(y_pred) == pd.DataFrame: y_pred = y_pred.values\n",
    "    if y_true.shape != y_pred.shape: raise ValueError(\"Shapes are different.\")\n",
    "    corrsum = 0\n",
    "    for i in range(len(y_true)):\n",
    "        corrsum += np.corrcoef(y_true[i], y_pred[i])[1, 0]\n",
    "    return corrsum / len(y_true)\n"
   ]
  },
  {
   "cell_type": "markdown",
   "id": "25581255",
   "metadata": {
    "papermill": {
     "duration": 0.010222,
     "end_time": "2022-09-14T06:34:16.516889",
     "exception": false,
     "start_time": "2022-09-14T06:34:16.506667",
     "status": "completed"
    },
    "tags": []
   },
   "source": [
    "# Preprocessing and cross-validation\n",
    "\n",
    "We first load all of the training input data for Multiome. It should take less than a minute."
   ]
  },
  {
   "cell_type": "code",
   "execution_count": 3,
   "id": "d3cbec6b",
   "metadata": {
    "execution": {
     "iopub.execute_input": "2022-09-14T06:34:16.540628Z",
     "iopub.status.busy": "2022-09-14T06:34:16.540214Z",
     "iopub.status.idle": "2022-09-14T06:35:14.821974Z",
     "shell.execute_reply": "2022-09-14T06:35:14.820229Z"
    },
    "papermill": {
     "duration": 58.313319,
     "end_time": "2022-09-14T06:35:14.841658",
     "exception": false,
     "start_time": "2022-09-14T06:34:16.528339",
     "status": "completed"
    },
    "tags": [],
    "vscode": {
     "languageId": "python"
    }
   },
   "outputs": [
    {
     "name": "stdout",
     "output_type": "stream",
     "text": [
      "Wall time: 18.4 s\n"
     ]
    }
   ],
   "source": [
    "%%time\n",
    "train_inputs = scipy.sparse.load_npz(\"C:/Users/Owner/Documents/dev/open-problem/multimodal-single-cell-as-sparse-matrix/train_multi_inputs_values.sparse.npz\")"
   ]
  },
  {
   "cell_type": "code",
   "execution_count": 4,
   "id": "c5332198",
   "metadata": {
    "execution": {
     "iopub.execute_input": "2022-09-14T06:35:14.865257Z",
     "iopub.status.busy": "2022-09-14T06:35:14.864207Z",
     "iopub.status.idle": "2022-09-14T06:35:18.750149Z",
     "shell.execute_reply": "2022-09-14T06:35:18.748898Z"
    },
    "papermill": {
     "duration": 3.901051,
     "end_time": "2022-09-14T06:35:18.753148",
     "exception": false,
     "start_time": "2022-09-14T06:35:14.852097",
     "status": "completed"
    },
    "tags": [],
    "vscode": {
     "languageId": "python"
    }
   },
   "outputs": [],
   "source": [
    "train_inputs = train_inputs.astype('float16', copy=False)"
   ]
  },
  {
   "cell_type": "markdown",
   "id": "e325a81a",
   "metadata": {
    "papermill": {
     "duration": 0.01037,
     "end_time": "2022-09-14T06:35:18.774701",
     "exception": false,
     "start_time": "2022-09-14T06:35:18.764331",
     "status": "completed"
    },
    "tags": []
   },
   "source": [
    "## PCA / TruncatedSVD\n",
    "It is not possible to directly apply PCA to a sparse matrix, because PCA has to first \"center\" the data, which destroys the sparsity. This is why we apply `TruncatedSVD` instead (which is pretty much \"PCA without centering\"). It might be better to normalize the data a bit more here, but we will keep it simple."
   ]
  },
  {
   "cell_type": "code",
   "execution_count": 5,
   "id": "4be68d1e",
   "metadata": {
    "execution": {
     "iopub.execute_input": "2022-09-14T06:35:18.797361Z",
     "iopub.status.busy": "2022-09-14T06:35:18.796971Z",
     "iopub.status.idle": "2022-09-14T06:57:20.316277Z",
     "shell.execute_reply": "2022-09-14T06:57:20.314921Z"
    },
    "papermill": {
     "duration": 1321.548258,
     "end_time": "2022-09-14T06:57:20.333611",
     "exception": false,
     "start_time": "2022-09-14T06:35:18.785353",
     "status": "completed"
    },
    "tags": [],
    "vscode": {
     "languageId": "python"
    }
   },
   "outputs": [
    {
     "name": "stdout",
     "output_type": "stream",
     "text": [
      "0.010997659\n",
      "Wall time: 6min 45s\n"
     ]
    }
   ],
   "source": [
    "%%time\n",
    "pca = TruncatedSVD(n_components=128, random_state=42)\n",
    "train_inputs = pca.fit_transform(train_inputs)\n",
    "print(pca.explained_variance_ratio_.sum())"
   ]
  },
  {
   "cell_type": "code",
   "execution_count": 6,
   "id": "c7aa8207",
   "metadata": {
    "execution": {
     "iopub.execute_input": "2022-09-14T06:57:20.358844Z",
     "iopub.status.busy": "2022-09-14T06:57:20.358073Z",
     "iopub.status.idle": "2022-09-14T06:57:44.208470Z",
     "shell.execute_reply": "2022-09-14T06:57:44.207176Z"
    },
    "papermill": {
     "duration": 23.865901,
     "end_time": "2022-09-14T06:57:44.211184",
     "exception": false,
     "start_time": "2022-09-14T06:57:20.345283",
     "status": "completed"
    },
    "tags": [],
    "vscode": {
     "languageId": "python"
    }
   },
   "outputs": [
    {
     "name": "stdout",
     "output_type": "stream",
     "text": [
      "Wall time: 8.29 s\n"
     ]
    }
   ],
   "source": [
    "%%time\n",
    "train_targets = scipy.sparse.load_npz(\"C:/Users/Owner/Documents/dev/open-problem/multimodal-single-cell-as-sparse-matrix/train_multi_targets_values.sparse.npz\")"
   ]
  },
  {
   "cell_type": "code",
   "execution_count": 7,
   "id": "b09622e2",
   "metadata": {
    "execution": {
     "iopub.execute_input": "2022-09-14T06:57:44.235496Z",
     "iopub.status.busy": "2022-09-14T06:57:44.234574Z",
     "iopub.status.idle": "2022-09-14T07:03:02.763657Z",
     "shell.execute_reply": "2022-09-14T07:03:02.762435Z"
    },
    "papermill": {
     "duration": 318.554552,
     "end_time": "2022-09-14T07:03:02.776801",
     "exception": false,
     "start_time": "2022-09-14T06:57:44.222249",
     "status": "completed"
    },
    "tags": [],
    "vscode": {
     "languageId": "python"
    }
   },
   "outputs": [
    {
     "name": "stdout",
     "output_type": "stream",
     "text": [
      "0.11779099\n",
      "Wall time: 2min 2s\n"
     ]
    }
   ],
   "source": [
    "%%time\n",
    "pca2 = TruncatedSVD(n_components=128, random_state=42)\n",
    "train_target = pca2.fit_transform(train_targets)\n",
    "print(pca2.explained_variance_ratio_.sum())"
   ]
  },
  {
   "cell_type": "code",
   "execution_count": 8,
   "id": "e32c359d",
   "metadata": {
    "execution": {
     "iopub.execute_input": "2022-09-14T07:03:02.800543Z",
     "iopub.status.busy": "2022-09-14T07:03:02.800115Z",
     "iopub.status.idle": "2022-09-14T07:03:02.805379Z",
     "shell.execute_reply": "2022-09-14T07:03:02.804559Z"
    },
    "papermill": {
     "duration": 0.01949,
     "end_time": "2022-09-14T07:03:02.807535",
     "exception": false,
     "start_time": "2022-09-14T07:03:02.788045",
     "status": "completed"
    },
    "tags": [],
    "vscode": {
     "languageId": "python"
    }
   },
   "outputs": [],
   "source": [
    "def save(name, model):\n",
    "    with open(name, 'wb') as f:\n",
    "        pickle.dump(model, f)"
   ]
  },
  {
   "cell_type": "code",
   "execution_count": 9,
   "id": "4774406e",
   "metadata": {
    "execution": {
     "iopub.execute_input": "2022-09-14T07:03:02.831238Z",
     "iopub.status.busy": "2022-09-14T07:03:02.830142Z",
     "iopub.status.idle": "2022-09-14T07:03:03.867793Z",
     "shell.execute_reply": "2022-09-14T07:03:03.866807Z"
    },
    "papermill": {
     "duration": 1.052396,
     "end_time": "2022-09-14T07:03:03.870604",
     "exception": false,
     "start_time": "2022-09-14T07:03:02.818208",
     "status": "completed"
    },
    "tags": [],
    "vscode": {
     "languageId": "python"
    }
   },
   "outputs": [],
   "source": [
    "save('pca.pkl', pca)\n",
    "save('pca2.pkl', pca2)"
   ]
  },
  {
   "cell_type": "code",
   "execution_count": 12,
   "id": "c6e897b8",
   "metadata": {
    "execution": {
     "iopub.execute_input": "2022-09-14T07:03:03.894584Z",
     "iopub.status.busy": "2022-09-14T07:03:03.894177Z",
     "iopub.status.idle": "2022-09-14T07:03:04.453752Z",
     "shell.execute_reply": "2022-09-14T07:03:04.452542Z"
    },
    "papermill": {
     "duration": 0.575061,
     "end_time": "2022-09-14T07:03:04.456879",
     "exception": false,
     "start_time": "2022-09-14T07:03:03.881818",
     "status": "completed"
    },
    "tags": [],
    "vscode": {
     "languageId": "python"
    }
   },
   "outputs": [],
   "source": [
    "from catboost import CatBoostRegressor\n",
    "params = {'learning_rate': 0.1, \n",
    "          'depth': 7, \n",
    "          'l2_leaf_reg': 4, \n",
    "          'loss_function': 'MultiRMSE', \n",
    "          'eval_metric': 'MultiRMSE', \n",
    "          'task_type': 'CPU', \n",
    "          'iterations': 200,\n",
    "          'od_type': 'Iter', \n",
    "          'boosting_type': 'Plain', \n",
    "          'bootstrap_type': 'Bayesian', \n",
    "          'allow_const_label': True, \n",
    "          'random_state': 1\n",
    "         }\n",
    "model = CatBoostRegressor(**params)"
   ]
  },
  {
   "cell_type": "code",
   "execution_count": 13,
   "id": "adbfa124",
   "metadata": {
    "execution": {
     "iopub.execute_input": "2022-09-14T07:03:04.480562Z",
     "iopub.status.busy": "2022-09-14T07:03:04.479910Z",
     "iopub.status.idle": "2022-09-14T07:03:04.484462Z",
     "shell.execute_reply": "2022-09-14T07:03:04.483714Z"
    },
    "papermill": {
     "duration": 0.018902,
     "end_time": "2022-09-14T07:03:04.486632",
     "exception": false,
     "start_time": "2022-09-14T07:03:04.467730",
     "status": "completed"
    },
    "tags": [],
    "vscode": {
     "languageId": "python"
    }
   },
   "outputs": [],
   "source": [
    "n = 1"
   ]
  },
  {
   "cell_type": "code",
   "execution_count": 14,
   "id": "797f92c4",
   "metadata": {
    "execution": {
     "iopub.execute_input": "2022-09-14T07:03:04.510381Z",
     "iopub.status.busy": "2022-09-14T07:03:04.509738Z",
     "iopub.status.idle": "2022-09-14T12:48:16.226601Z",
     "shell.execute_reply": "2022-09-14T12:48:16.224803Z"
    },
    "papermill": {
     "duration": 20711.80725,
     "end_time": "2022-09-14T12:48:16.304631",
     "exception": false,
     "start_time": "2022-09-14T07:03:04.497381",
     "status": "completed"
    },
    "tags": [],
    "vscode": {
     "languageId": "python"
    }
   },
   "outputs": [
    {
     "name": "stdout",
     "output_type": "stream",
     "text": [
      "start [0:105942]\n",
      "Train...\n",
      "0:\tlearn: 74.4837434\ttotal: 4.49s\tremaining: 14m 53s\n",
      "1:\tlearn: 72.3356197\ttotal: 9.02s\tremaining: 14m 53s\n",
      "2:\tlearn: 70.4881264\ttotal: 13.5s\tremaining: 14m 46s\n",
      "3:\tlearn: 68.7940866\ttotal: 18.1s\tremaining: 14m 44s\n",
      "4:\tlearn: 67.3404237\ttotal: 22.5s\tremaining: 14m 37s\n",
      "5:\tlearn: 65.9576748\ttotal: 27.1s\tremaining: 14m 34s\n",
      "6:\tlearn: 64.7607699\ttotal: 31.6s\tremaining: 14m 32s\n",
      "7:\tlearn: 63.7088646\ttotal: 36.2s\tremaining: 14m 29s\n",
      "8:\tlearn: 62.7753458\ttotal: 40.8s\tremaining: 14m 25s\n",
      "9:\tlearn: 61.9207222\ttotal: 45.3s\tremaining: 14m 20s\n",
      "10:\tlearn: 61.2033426\ttotal: 49.7s\tremaining: 14m 14s\n",
      "11:\tlearn: 60.5610450\ttotal: 54.2s\tremaining: 14m 8s\n",
      "12:\tlearn: 59.9598913\ttotal: 58.7s\tremaining: 14m 4s\n",
      "13:\tlearn: 59.4176549\ttotal: 1m 3s\tremaining: 13m 58s\n",
      "14:\tlearn: 58.9458861\ttotal: 1m 7s\tremaining: 13m 53s\n",
      "15:\tlearn: 58.5225956\ttotal: 1m 11s\tremaining: 13m 47s\n",
      "16:\tlearn: 58.0944770\ttotal: 1m 16s\tremaining: 13m 42s\n",
      "17:\tlearn: 57.7123285\ttotal: 1m 20s\tremaining: 13m 37s\n",
      "18:\tlearn: 57.3655262\ttotal: 1m 25s\tremaining: 13m 32s\n",
      "19:\tlearn: 57.0387178\ttotal: 1m 29s\tremaining: 13m 27s\n",
      "20:\tlearn: 56.7129853\ttotal: 1m 34s\tremaining: 13m 23s\n",
      "21:\tlearn: 56.3982165\ttotal: 1m 38s\tremaining: 13m 18s\n",
      "22:\tlearn: 56.1223756\ttotal: 1m 43s\tremaining: 13m 13s\n",
      "23:\tlearn: 55.8643449\ttotal: 1m 47s\tremaining: 13m 9s\n",
      "24:\tlearn: 55.6221052\ttotal: 1m 52s\tremaining: 13m 5s\n",
      "25:\tlearn: 55.3946945\ttotal: 1m 56s\tremaining: 13m\n",
      "26:\tlearn: 55.1671237\ttotal: 2m 1s\tremaining: 12m 56s\n",
      "27:\tlearn: 54.9699089\ttotal: 2m 5s\tremaining: 12m 51s\n",
      "28:\tlearn: 54.7591939\ttotal: 2m 10s\tremaining: 12m 47s\n",
      "29:\tlearn: 54.5830215\ttotal: 2m 14s\tremaining: 12m 42s\n",
      "30:\tlearn: 54.3985638\ttotal: 2m 19s\tremaining: 12m 38s\n",
      "31:\tlearn: 54.2017944\ttotal: 2m 23s\tremaining: 12m 33s\n",
      "32:\tlearn: 54.0443588\ttotal: 2m 28s\tremaining: 12m 29s\n",
      "33:\tlearn: 53.8771502\ttotal: 2m 32s\tremaining: 12m 24s\n",
      "34:\tlearn: 53.7063961\ttotal: 2m 37s\tremaining: 12m 20s\n",
      "35:\tlearn: 53.5665918\ttotal: 2m 41s\tremaining: 12m 16s\n",
      "36:\tlearn: 53.3993211\ttotal: 2m 46s\tremaining: 12m 11s\n",
      "37:\tlearn: 53.2614439\ttotal: 2m 50s\tremaining: 12m 6s\n",
      "38:\tlearn: 53.1292959\ttotal: 2m 54s\tremaining: 12m 2s\n",
      "39:\tlearn: 53.0037722\ttotal: 2m 59s\tremaining: 11m 58s\n",
      "40:\tlearn: 52.8706586\ttotal: 3m 4s\tremaining: 11m 53s\n",
      "41:\tlearn: 52.7652631\ttotal: 3m 8s\tremaining: 11m 49s\n",
      "42:\tlearn: 52.6629912\ttotal: 3m 12s\tremaining: 11m 44s\n",
      "43:\tlearn: 52.5697034\ttotal: 3m 17s\tremaining: 11m 39s\n",
      "44:\tlearn: 52.4733137\ttotal: 3m 21s\tremaining: 11m 35s\n",
      "45:\tlearn: 52.3733347\ttotal: 3m 26s\tremaining: 11m 30s\n",
      "46:\tlearn: 52.2852896\ttotal: 3m 30s\tremaining: 11m 26s\n",
      "47:\tlearn: 52.1983827\ttotal: 3m 35s\tremaining: 11m 22s\n",
      "48:\tlearn: 52.0939617\ttotal: 3m 39s\tremaining: 11m 17s\n",
      "49:\tlearn: 52.0117271\ttotal: 3m 44s\tremaining: 11m 13s\n",
      "50:\tlearn: 51.9237315\ttotal: 3m 49s\tremaining: 11m 9s\n",
      "51:\tlearn: 51.8487414\ttotal: 3m 53s\tremaining: 11m 4s\n",
      "52:\tlearn: 51.7764136\ttotal: 3m 58s\tremaining: 11m\n",
      "53:\tlearn: 51.6851063\ttotal: 4m 2s\tremaining: 10m 56s\n",
      "54:\tlearn: 51.6177994\ttotal: 4m 7s\tremaining: 10m 51s\n",
      "55:\tlearn: 51.5239224\ttotal: 4m 11s\tremaining: 10m 47s\n",
      "56:\tlearn: 51.4525547\ttotal: 4m 16s\tremaining: 10m 42s\n",
      "57:\tlearn: 51.3747602\ttotal: 4m 20s\tremaining: 10m 38s\n",
      "58:\tlearn: 51.3060209\ttotal: 4m 25s\tremaining: 10m 33s\n",
      "59:\tlearn: 51.2340909\ttotal: 4m 29s\tremaining: 10m 29s\n",
      "60:\tlearn: 51.1664178\ttotal: 4m 34s\tremaining: 10m 24s\n",
      "61:\tlearn: 51.0916336\ttotal: 4m 38s\tremaining: 10m 20s\n",
      "62:\tlearn: 51.0408819\ttotal: 4m 43s\tremaining: 10m 15s\n",
      "63:\tlearn: 50.9916262\ttotal: 4m 47s\tremaining: 10m 11s\n",
      "64:\tlearn: 50.9314468\ttotal: 4m 51s\tremaining: 10m 6s\n",
      "65:\tlearn: 50.8783258\ttotal: 4m 56s\tremaining: 10m 1s\n",
      "66:\tlearn: 50.8192464\ttotal: 5m\tremaining: 9m 57s\n",
      "67:\tlearn: 50.7623786\ttotal: 5m 5s\tremaining: 9m 52s\n",
      "68:\tlearn: 50.7035117\ttotal: 5m 9s\tremaining: 9m 48s\n",
      "69:\tlearn: 50.6539936\ttotal: 5m 14s\tremaining: 9m 43s\n",
      "70:\tlearn: 50.6125053\ttotal: 5m 18s\tremaining: 9m 39s\n",
      "71:\tlearn: 50.5605792\ttotal: 5m 23s\tremaining: 9m 34s\n",
      "72:\tlearn: 50.5105160\ttotal: 5m 27s\tremaining: 9m 30s\n",
      "73:\tlearn: 50.4755926\ttotal: 5m 32s\tremaining: 9m 25s\n",
      "74:\tlearn: 50.4351823\ttotal: 5m 36s\tremaining: 9m 20s\n",
      "75:\tlearn: 50.3843943\ttotal: 5m 40s\tremaining: 9m 16s\n",
      "76:\tlearn: 50.3331214\ttotal: 5m 45s\tremaining: 9m 11s\n",
      "77:\tlearn: 50.2894615\ttotal: 5m 49s\tremaining: 9m 7s\n",
      "78:\tlearn: 50.2487485\ttotal: 5m 54s\tremaining: 9m 2s\n",
      "79:\tlearn: 50.2014849\ttotal: 5m 58s\tremaining: 8m 57s\n",
      "80:\tlearn: 50.1571534\ttotal: 6m 3s\tremaining: 8m 53s\n",
      "81:\tlearn: 50.1171176\ttotal: 6m 7s\tremaining: 8m 48s\n",
      "82:\tlearn: 50.0867147\ttotal: 6m 11s\tremaining: 8m 44s\n",
      "83:\tlearn: 50.0548240\ttotal: 6m 16s\tremaining: 8m 39s\n",
      "84:\tlearn: 50.0187701\ttotal: 6m 20s\tremaining: 8m 35s\n",
      "85:\tlearn: 49.9770219\ttotal: 6m 25s\tremaining: 8m 30s\n",
      "86:\tlearn: 49.9419304\ttotal: 6m 29s\tremaining: 8m 25s\n",
      "87:\tlearn: 49.9095438\ttotal: 6m 34s\tremaining: 8m 21s\n",
      "88:\tlearn: 49.8705594\ttotal: 6m 38s\tremaining: 8m 16s\n",
      "89:\tlearn: 49.8439455\ttotal: 6m 42s\tremaining: 8m 12s\n",
      "90:\tlearn: 49.8013834\ttotal: 6m 47s\tremaining: 8m 8s\n",
      "91:\tlearn: 49.7722584\ttotal: 6m 51s\tremaining: 8m 3s\n",
      "92:\tlearn: 49.7418358\ttotal: 6m 56s\tremaining: 7m 58s\n",
      "93:\tlearn: 49.7092033\ttotal: 7m\tremaining: 7m 54s\n",
      "94:\tlearn: 49.6769732\ttotal: 7m 4s\tremaining: 7m 49s\n",
      "95:\tlearn: 49.6407250\ttotal: 7m 9s\tremaining: 7m 45s\n",
      "96:\tlearn: 49.6064158\ttotal: 7m 13s\tremaining: 7m 40s\n",
      "97:\tlearn: 49.5761801\ttotal: 7m 18s\tremaining: 7m 36s\n",
      "98:\tlearn: 49.5485581\ttotal: 7m 22s\tremaining: 7m 31s\n",
      "99:\tlearn: 49.5242615\ttotal: 7m 27s\tremaining: 7m 27s\n",
      "100:\tlearn: 49.4954394\ttotal: 7m 31s\tremaining: 7m 22s\n",
      "101:\tlearn: 49.4670014\ttotal: 7m 35s\tremaining: 7m 18s\n",
      "102:\tlearn: 49.4414317\ttotal: 7m 40s\tremaining: 7m 13s\n",
      "103:\tlearn: 49.4134380\ttotal: 7m 44s\tremaining: 7m 9s\n",
      "104:\tlearn: 49.3833300\ttotal: 7m 49s\tremaining: 7m 4s\n",
      "105:\tlearn: 49.3564957\ttotal: 7m 53s\tremaining: 6m 59s\n",
      "106:\tlearn: 49.3345551\ttotal: 7m 57s\tremaining: 6m 55s\n",
      "107:\tlearn: 49.3033293\ttotal: 8m 2s\tremaining: 6m 50s\n",
      "108:\tlearn: 49.2840362\ttotal: 8m 6s\tremaining: 6m 46s\n",
      "109:\tlearn: 49.2661928\ttotal: 8m 11s\tremaining: 6m 41s\n",
      "110:\tlearn: 49.2344465\ttotal: 8m 15s\tremaining: 6m 37s\n",
      "111:\tlearn: 49.2108542\ttotal: 8m 19s\tremaining: 6m 32s\n",
      "112:\tlearn: 49.1922998\ttotal: 8m 24s\tremaining: 6m 28s\n",
      "113:\tlearn: 49.1683956\ttotal: 8m 28s\tremaining: 6m 23s\n",
      "114:\tlearn: 49.1318336\ttotal: 8m 33s\tremaining: 6m 19s\n",
      "115:\tlearn: 49.1055957\ttotal: 8m 37s\tremaining: 6m 14s\n",
      "116:\tlearn: 49.0799411\ttotal: 8m 41s\tremaining: 6m 10s\n",
      "117:\tlearn: 49.0580181\ttotal: 8m 46s\tremaining: 6m 5s\n",
      "118:\tlearn: 49.0382302\ttotal: 8m 50s\tremaining: 6m 1s\n",
      "119:\tlearn: 49.0177561\ttotal: 8m 54s\tremaining: 5m 56s\n",
      "120:\tlearn: 48.9933108\ttotal: 8m 59s\tremaining: 5m 52s\n",
      "121:\tlearn: 48.9681862\ttotal: 9m 3s\tremaining: 5m 47s\n",
      "122:\tlearn: 48.9371438\ttotal: 9m 8s\tremaining: 5m 43s\n",
      "123:\tlearn: 48.9075120\ttotal: 9m 12s\tremaining: 5m 38s\n",
      "124:\tlearn: 48.8833157\ttotal: 9m 16s\tremaining: 5m 34s\n",
      "125:\tlearn: 48.8569405\ttotal: 9m 21s\tremaining: 5m 29s\n",
      "126:\tlearn: 48.8333043\ttotal: 9m 25s\tremaining: 5m 25s\n",
      "127:\tlearn: 48.8113439\ttotal: 9m 30s\tremaining: 5m 20s\n",
      "128:\tlearn: 48.7852097\ttotal: 9m 34s\tremaining: 5m 16s\n",
      "129:\tlearn: 48.7570837\ttotal: 9m 39s\tremaining: 5m 11s\n",
      "130:\tlearn: 48.7405520\ttotal: 9m 43s\tremaining: 5m 7s\n",
      "131:\tlearn: 48.7204269\ttotal: 9m 47s\tremaining: 5m 2s\n",
      "132:\tlearn: 48.7010195\ttotal: 9m 52s\tremaining: 4m 58s\n",
      "133:\tlearn: 48.6717863\ttotal: 9m 56s\tremaining: 4m 53s\n",
      "134:\tlearn: 48.6576353\ttotal: 10m\tremaining: 4m 49s\n",
      "135:\tlearn: 48.6338248\ttotal: 10m 5s\tremaining: 4m 44s\n",
      "136:\tlearn: 48.6141625\ttotal: 10m 9s\tremaining: 4m 40s\n",
      "137:\tlearn: 48.5974587\ttotal: 10m 13s\tremaining: 4m 35s\n",
      "138:\tlearn: 48.5753756\ttotal: 10m 18s\tremaining: 4m 31s\n",
      "139:\tlearn: 48.5588608\ttotal: 10m 22s\tremaining: 4m 26s\n",
      "140:\tlearn: 48.5391183\ttotal: 10m 27s\tremaining: 4m 22s\n",
      "141:\tlearn: 48.5191169\ttotal: 10m 31s\tremaining: 4m 17s\n",
      "142:\tlearn: 48.4980243\ttotal: 10m 35s\tremaining: 4m 13s\n",
      "143:\tlearn: 48.4727916\ttotal: 10m 40s\tremaining: 4m 8s\n",
      "144:\tlearn: 48.4540369\ttotal: 10m 44s\tremaining: 4m 4s\n",
      "145:\tlearn: 48.4325878\ttotal: 10m 48s\tremaining: 4m\n",
      "146:\tlearn: 48.4162329\ttotal: 10m 53s\tremaining: 3m 55s\n",
      "147:\tlearn: 48.3970908\ttotal: 10m 57s\tremaining: 3m 51s\n",
      "148:\tlearn: 48.3727177\ttotal: 11m 2s\tremaining: 3m 46s\n",
      "149:\tlearn: 48.3490662\ttotal: 11m 6s\tremaining: 3m 42s\n",
      "150:\tlearn: 48.3296745\ttotal: 11m 10s\tremaining: 3m 37s\n",
      "151:\tlearn: 48.3137896\ttotal: 11m 15s\tremaining: 3m 33s\n",
      "152:\tlearn: 48.2937200\ttotal: 11m 19s\tremaining: 3m 28s\n",
      "153:\tlearn: 48.2769095\ttotal: 11m 24s\tremaining: 3m 24s\n",
      "154:\tlearn: 48.2602568\ttotal: 11m 28s\tremaining: 3m 19s\n",
      "155:\tlearn: 48.2427016\ttotal: 11m 32s\tremaining: 3m 15s\n",
      "156:\tlearn: 48.2223367\ttotal: 11m 37s\tremaining: 3m 10s\n",
      "157:\tlearn: 48.2016979\ttotal: 11m 41s\tremaining: 3m 6s\n",
      "158:\tlearn: 48.1857008\ttotal: 11m 45s\tremaining: 3m 2s\n",
      "159:\tlearn: 48.1693999\ttotal: 11m 50s\tremaining: 2m 57s\n",
      "160:\tlearn: 48.1450280\ttotal: 11m 54s\tremaining: 2m 53s\n",
      "161:\tlearn: 48.1333314\ttotal: 11m 59s\tremaining: 2m 48s\n",
      "162:\tlearn: 48.1133685\ttotal: 12m 3s\tremaining: 2m 44s\n",
      "163:\tlearn: 48.0964935\ttotal: 12m 7s\tremaining: 2m 39s\n",
      "164:\tlearn: 48.0810747\ttotal: 12m 12s\tremaining: 2m 35s\n",
      "165:\tlearn: 48.0680083\ttotal: 12m 16s\tremaining: 2m 30s\n",
      "166:\tlearn: 48.0519919\ttotal: 12m 20s\tremaining: 2m 26s\n",
      "167:\tlearn: 48.0344268\ttotal: 12m 25s\tremaining: 2m 21s\n",
      "168:\tlearn: 48.0154425\ttotal: 12m 29s\tremaining: 2m 17s\n",
      "169:\tlearn: 47.9980853\ttotal: 12m 34s\tremaining: 2m 13s\n",
      "170:\tlearn: 47.9828926\ttotal: 12m 38s\tremaining: 2m 8s\n",
      "171:\tlearn: 47.9684543\ttotal: 12m 42s\tremaining: 2m 4s\n",
      "172:\tlearn: 47.9550006\ttotal: 12m 47s\tremaining: 1m 59s\n",
      "173:\tlearn: 47.9355710\ttotal: 12m 51s\tremaining: 1m 55s\n",
      "174:\tlearn: 47.9234346\ttotal: 12m 56s\tremaining: 1m 50s\n",
      "175:\tlearn: 47.9110719\ttotal: 13m\tremaining: 1m 46s\n",
      "176:\tlearn: 47.8982481\ttotal: 13m 4s\tremaining: 1m 41s\n",
      "177:\tlearn: 47.8787831\ttotal: 13m 9s\tremaining: 1m 37s\n",
      "178:\tlearn: 47.8680726\ttotal: 13m 13s\tremaining: 1m 33s\n",
      "179:\tlearn: 47.8521611\ttotal: 13m 17s\tremaining: 1m 28s\n",
      "180:\tlearn: 47.8289589\ttotal: 13m 22s\tremaining: 1m 24s\n",
      "181:\tlearn: 47.8161735\ttotal: 13m 26s\tremaining: 1m 19s\n",
      "182:\tlearn: 47.7980813\ttotal: 13m 31s\tremaining: 1m 15s\n",
      "183:\tlearn: 47.7881196\ttotal: 13m 35s\tremaining: 1m 10s\n",
      "184:\tlearn: 47.7755630\ttotal: 13m 39s\tremaining: 1m 6s\n",
      "185:\tlearn: 47.7611939\ttotal: 13m 44s\tremaining: 1m 2s\n",
      "186:\tlearn: 47.7503518\ttotal: 13m 48s\tremaining: 57.6s\n",
      "187:\tlearn: 47.7376652\ttotal: 13m 53s\tremaining: 53.2s\n",
      "188:\tlearn: 47.7271888\ttotal: 13m 57s\tremaining: 48.7s\n",
      "189:\tlearn: 47.7115232\ttotal: 14m 1s\tremaining: 44.3s\n",
      "190:\tlearn: 47.6973395\ttotal: 14m 6s\tremaining: 39.9s\n",
      "191:\tlearn: 47.6779450\ttotal: 14m 10s\tremaining: 35.5s\n",
      "192:\tlearn: 47.6643315\ttotal: 14m 15s\tremaining: 31s\n",
      "193:\tlearn: 47.6497308\ttotal: 14m 19s\tremaining: 26.6s\n",
      "194:\tlearn: 47.6318774\ttotal: 14m 24s\tremaining: 22.2s\n",
      "195:\tlearn: 47.6178652\ttotal: 14m 28s\tremaining: 17.7s\n",
      "196:\tlearn: 47.6032362\ttotal: 14m 32s\tremaining: 13.3s\n",
      "197:\tlearn: 47.5870332\ttotal: 14m 37s\tremaining: 8.86s\n",
      "198:\tlearn: 47.5759765\ttotal: 14m 41s\tremaining: 4.43s\n",
      "199:\tlearn: 47.5573780\ttotal: 14m 46s\tremaining: 0us\n",
      "0 0.6683498173124431\n",
      "Train...\n",
      "0:\tlearn: 74.4830315\ttotal: 4.48s\tremaining: 14m 51s\n",
      "1:\tlearn: 72.3986182\ttotal: 9.13s\tremaining: 15m 4s\n",
      "2:\tlearn: 70.5169797\ttotal: 13.6s\tremaining: 14m 52s\n",
      "3:\tlearn: 68.8493118\ttotal: 18.2s\tremaining: 14m 52s\n",
      "4:\tlearn: 67.4123306\ttotal: 22.7s\tremaining: 14m 46s\n",
      "5:\tlearn: 66.1275864\ttotal: 27.2s\tremaining: 14m 40s\n",
      "6:\tlearn: 64.9014529\ttotal: 31.8s\tremaining: 14m 36s\n",
      "7:\tlearn: 63.8613791\ttotal: 36.2s\tremaining: 14m 28s\n",
      "8:\tlearn: 62.9053096\ttotal: 40.7s\tremaining: 14m 24s\n",
      "9:\tlearn: 62.0573169\ttotal: 45.2s\tremaining: 14m 19s\n",
      "10:\tlearn: 61.3429780\ttotal: 49.7s\tremaining: 14m 14s\n",
      "11:\tlearn: 60.6815758\ttotal: 54.2s\tremaining: 14m 9s\n",
      "12:\tlearn: 60.0750935\ttotal: 58.7s\tremaining: 14m 4s\n",
      "13:\tlearn: 59.5187658\ttotal: 1m 3s\tremaining: 13m 57s\n",
      "14:\tlearn: 59.0055392\ttotal: 1m 7s\tremaining: 13m 53s\n",
      "15:\tlearn: 58.6004193\ttotal: 1m 11s\tremaining: 13m 46s\n",
      "16:\tlearn: 58.1752972\ttotal: 1m 16s\tremaining: 13m 41s\n",
      "17:\tlearn: 57.8024857\ttotal: 1m 20s\tremaining: 13m 37s\n",
      "18:\tlearn: 57.4370296\ttotal: 1m 25s\tremaining: 13m 32s\n",
      "19:\tlearn: 57.0667429\ttotal: 1m 29s\tremaining: 13m 28s\n",
      "20:\tlearn: 56.7620603\ttotal: 1m 34s\tremaining: 13m 23s\n",
      "21:\tlearn: 56.4507878\ttotal: 1m 38s\tremaining: 13m 18s\n",
      "22:\tlearn: 56.1827902\ttotal: 1m 43s\tremaining: 13m 13s\n",
      "23:\tlearn: 55.9100753\ttotal: 1m 47s\tremaining: 13m 10s\n",
      "24:\tlearn: 55.6528228\ttotal: 1m 52s\tremaining: 13m 6s\n",
      "25:\tlearn: 55.4181224\ttotal: 1m 56s\tremaining: 13m 1s\n",
      "26:\tlearn: 55.1655211\ttotal: 2m 1s\tremaining: 12m 58s\n",
      "27:\tlearn: 54.9512604\ttotal: 2m 6s\tremaining: 12m 54s\n",
      "28:\tlearn: 54.7495680\ttotal: 2m 10s\tremaining: 12m 49s\n",
      "29:\tlearn: 54.5672413\ttotal: 2m 14s\tremaining: 12m 44s\n",
      "30:\tlearn: 54.4081037\ttotal: 2m 19s\tremaining: 12m 39s\n",
      "31:\tlearn: 54.2044260\ttotal: 2m 23s\tremaining: 12m 35s\n",
      "32:\tlearn: 54.0564573\ttotal: 2m 28s\tremaining: 12m 30s\n",
      "33:\tlearn: 53.9146926\ttotal: 2m 32s\tremaining: 12m 25s\n",
      "34:\tlearn: 53.7580847\ttotal: 2m 37s\tremaining: 12m 21s\n",
      "35:\tlearn: 53.6088101\ttotal: 2m 41s\tremaining: 12m 16s\n",
      "36:\tlearn: 53.4814293\ttotal: 2m 46s\tremaining: 12m 12s\n",
      "37:\tlearn: 53.3503815\ttotal: 2m 50s\tremaining: 12m 7s\n",
      "38:\tlearn: 53.2253114\ttotal: 2m 55s\tremaining: 12m 3s\n",
      "39:\tlearn: 53.0867003\ttotal: 2m 59s\tremaining: 11m 58s\n",
      "40:\tlearn: 52.9665379\ttotal: 3m 4s\tremaining: 11m 53s\n",
      "41:\tlearn: 52.8503003\ttotal: 3m 8s\tremaining: 11m 49s\n",
      "42:\tlearn: 52.7339034\ttotal: 3m 13s\tremaining: 11m 45s\n",
      "43:\tlearn: 52.6224294\ttotal: 3m 17s\tremaining: 11m 40s\n",
      "44:\tlearn: 52.5186711\ttotal: 3m 22s\tremaining: 11m 36s\n",
      "45:\tlearn: 52.4169609\ttotal: 3m 26s\tremaining: 11m 31s\n",
      "46:\tlearn: 52.3218534\ttotal: 3m 31s\tremaining: 11m 27s\n",
      "47:\tlearn: 52.2151381\ttotal: 3m 35s\tremaining: 11m 23s\n",
      "48:\tlearn: 52.1272038\ttotal: 3m 40s\tremaining: 11m 18s\n",
      "49:\tlearn: 52.0383807\ttotal: 3m 44s\tremaining: 11m 13s\n",
      "50:\tlearn: 51.9477716\ttotal: 3m 49s\tremaining: 11m 9s\n",
      "51:\tlearn: 51.8702409\ttotal: 3m 54s\tremaining: 11m 6s\n",
      "52:\tlearn: 51.7977235\ttotal: 3m 59s\tremaining: 11m 3s\n",
      "53:\tlearn: 51.7120010\ttotal: 4m 3s\tremaining: 10m 59s\n",
      "54:\tlearn: 51.6435967\ttotal: 4m 8s\tremaining: 10m 55s\n",
      "55:\tlearn: 51.5692034\ttotal: 4m 13s\tremaining: 10m 50s\n",
      "56:\tlearn: 51.5137753\ttotal: 4m 17s\tremaining: 10m 46s\n",
      "57:\tlearn: 51.4406250\ttotal: 4m 22s\tremaining: 10m 42s\n",
      "58:\tlearn: 51.3617096\ttotal: 4m 26s\tremaining: 10m 37s\n",
      "59:\tlearn: 51.2814063\ttotal: 4m 31s\tremaining: 10m 33s\n",
      "60:\tlearn: 51.2255350\ttotal: 4m 35s\tremaining: 10m 28s\n",
      "61:\tlearn: 51.1697453\ttotal: 4m 40s\tremaining: 10m 24s\n",
      "62:\tlearn: 51.1250145\ttotal: 4m 44s\tremaining: 10m 19s\n",
      "63:\tlearn: 51.0612153\ttotal: 4m 49s\tremaining: 10m 14s\n",
      "64:\tlearn: 51.0091088\ttotal: 4m 53s\tremaining: 10m 10s\n",
      "65:\tlearn: 50.9481066\ttotal: 4m 58s\tremaining: 10m 5s\n",
      "66:\tlearn: 50.8835719\ttotal: 5m 2s\tremaining: 10m\n",
      "67:\tlearn: 50.8283930\ttotal: 5m 7s\tremaining: 9m 56s\n",
      "68:\tlearn: 50.7698202\ttotal: 5m 11s\tremaining: 9m 51s\n",
      "69:\tlearn: 50.7212163\ttotal: 5m 16s\tremaining: 9m 47s\n",
      "70:\tlearn: 50.6715394\ttotal: 5m 20s\tremaining: 9m 42s\n",
      "71:\tlearn: 50.6272556\ttotal: 5m 24s\tremaining: 9m 37s\n",
      "72:\tlearn: 50.5811387\ttotal: 5m 29s\tremaining: 9m 33s\n",
      "73:\tlearn: 50.5503924\ttotal: 5m 33s\tremaining: 9m 28s\n",
      "74:\tlearn: 50.4953017\ttotal: 5m 38s\tremaining: 9m 23s\n",
      "75:\tlearn: 50.4391461\ttotal: 5m 42s\tremaining: 9m 19s\n",
      "76:\tlearn: 50.3865107\ttotal: 5m 47s\tremaining: 9m 14s\n",
      "77:\tlearn: 50.3469394\ttotal: 5m 51s\tremaining: 9m 10s\n",
      "78:\tlearn: 50.2993589\ttotal: 5m 56s\tremaining: 9m 5s\n",
      "79:\tlearn: 50.2626073\ttotal: 6m\tremaining: 9m\n",
      "80:\tlearn: 50.2245943\ttotal: 6m 5s\tremaining: 8m 56s\n",
      "81:\tlearn: 50.1888916\ttotal: 6m 9s\tremaining: 8m 51s\n",
      "82:\tlearn: 50.1457372\ttotal: 6m 13s\tremaining: 8m 47s\n",
      "83:\tlearn: 50.1135525\ttotal: 6m 18s\tremaining: 8m 42s\n",
      "84:\tlearn: 50.0785084\ttotal: 6m 22s\tremaining: 8m 37s\n",
      "85:\tlearn: 50.0346791\ttotal: 6m 27s\tremaining: 8m 33s\n",
      "86:\tlearn: 50.0019735\ttotal: 6m 31s\tremaining: 8m 28s\n",
      "87:\tlearn: 49.9746076\ttotal: 6m 36s\tremaining: 8m 24s\n",
      "88:\tlearn: 49.9368962\ttotal: 6m 40s\tremaining: 8m 19s\n",
      "89:\tlearn: 49.9118408\ttotal: 6m 45s\tremaining: 8m 15s\n",
      "90:\tlearn: 49.8715732\ttotal: 6m 49s\tremaining: 8m 10s\n",
      "91:\tlearn: 49.8414400\ttotal: 6m 54s\tremaining: 8m 6s\n",
      "92:\tlearn: 49.7996635\ttotal: 6m 58s\tremaining: 8m 1s\n",
      "93:\tlearn: 49.7699603\ttotal: 7m 3s\tremaining: 7m 57s\n",
      "94:\tlearn: 49.7362257\ttotal: 7m 7s\tremaining: 7m 52s\n",
      "95:\tlearn: 49.6982199\ttotal: 7m 12s\tremaining: 7m 48s\n",
      "96:\tlearn: 49.6697253\ttotal: 7m 16s\tremaining: 7m 43s\n",
      "97:\tlearn: 49.6433566\ttotal: 7m 21s\tremaining: 7m 39s\n",
      "98:\tlearn: 49.6182239\ttotal: 7m 25s\tremaining: 7m 34s\n",
      "99:\tlearn: 49.5853032\ttotal: 7m 29s\tremaining: 7m 29s\n",
      "100:\tlearn: 49.5565490\ttotal: 7m 34s\tremaining: 7m 25s\n",
      "101:\tlearn: 49.5317052\ttotal: 7m 38s\tremaining: 7m 20s\n",
      "102:\tlearn: 49.5085165\ttotal: 7m 43s\tremaining: 7m 16s\n",
      "103:\tlearn: 49.4800035\ttotal: 7m 47s\tremaining: 7m 11s\n",
      "104:\tlearn: 49.4598294\ttotal: 7m 51s\tremaining: 7m 6s\n",
      "105:\tlearn: 49.4286965\ttotal: 7m 56s\tremaining: 7m 2s\n",
      "106:\tlearn: 49.4015913\ttotal: 8m\tremaining: 6m 57s\n",
      "107:\tlearn: 49.3769006\ttotal: 8m 5s\tremaining: 6m 53s\n",
      "108:\tlearn: 49.3529279\ttotal: 8m 9s\tremaining: 6m 48s\n",
      "109:\tlearn: 49.3187377\ttotal: 8m 14s\tremaining: 6m 44s\n",
      "110:\tlearn: 49.2881708\ttotal: 8m 18s\tremaining: 6m 39s\n",
      "111:\tlearn: 49.2518144\ttotal: 8m 22s\tremaining: 6m 35s\n",
      "112:\tlearn: 49.2227744\ttotal: 8m 27s\tremaining: 6m 30s\n",
      "113:\tlearn: 49.1896809\ttotal: 8m 31s\tremaining: 6m 26s\n",
      "114:\tlearn: 49.1643155\ttotal: 8m 36s\tremaining: 6m 21s\n",
      "115:\tlearn: 49.1306200\ttotal: 8m 40s\tremaining: 6m 17s\n",
      "116:\tlearn: 49.1070905\ttotal: 8m 45s\tremaining: 6m 12s\n",
      "117:\tlearn: 49.0838331\ttotal: 8m 49s\tremaining: 6m 7s\n",
      "118:\tlearn: 49.0477384\ttotal: 8m 53s\tremaining: 6m 3s\n",
      "119:\tlearn: 49.0240707\ttotal: 8m 58s\tremaining: 5m 58s\n",
      "120:\tlearn: 48.9998644\ttotal: 9m 2s\tremaining: 5m 54s\n",
      "121:\tlearn: 48.9719703\ttotal: 9m 6s\tremaining: 5m 49s\n",
      "122:\tlearn: 48.9449959\ttotal: 9m 11s\tremaining: 5m 45s\n",
      "123:\tlearn: 48.9173395\ttotal: 9m 15s\tremaining: 5m 40s\n",
      "124:\tlearn: 48.8946819\ttotal: 9m 20s\tremaining: 5m 36s\n",
      "125:\tlearn: 48.8643930\ttotal: 9m 24s\tremaining: 5m 31s\n",
      "126:\tlearn: 48.8415230\ttotal: 9m 29s\tremaining: 5m 27s\n",
      "127:\tlearn: 48.8209627\ttotal: 9m 33s\tremaining: 5m 22s\n",
      "128:\tlearn: 48.8035722\ttotal: 9m 38s\tremaining: 5m 18s\n",
      "129:\tlearn: 48.7818261\ttotal: 9m 42s\tremaining: 5m 13s\n",
      "130:\tlearn: 48.7606364\ttotal: 9m 46s\tremaining: 5m 9s\n",
      "131:\tlearn: 48.7392330\ttotal: 9m 51s\tremaining: 5m 4s\n",
      "132:\tlearn: 48.7183209\ttotal: 9m 55s\tremaining: 5m\n",
      "133:\tlearn: 48.6956933\ttotal: 9m 59s\tremaining: 4m 55s\n",
      "134:\tlearn: 48.6733513\ttotal: 10m 4s\tremaining: 4m 51s\n",
      "135:\tlearn: 48.6565806\ttotal: 10m 8s\tremaining: 4m 46s\n",
      "136:\tlearn: 48.6267033\ttotal: 10m 13s\tremaining: 4m 42s\n",
      "137:\tlearn: 48.6065677\ttotal: 10m 17s\tremaining: 4m 37s\n",
      "138:\tlearn: 48.5819737\ttotal: 10m 22s\tremaining: 4m 33s\n",
      "139:\tlearn: 48.5619887\ttotal: 10m 26s\tremaining: 4m 28s\n",
      "140:\tlearn: 48.5420165\ttotal: 10m 30s\tremaining: 4m 23s\n",
      "141:\tlearn: 48.5232044\ttotal: 10m 35s\tremaining: 4m 19s\n",
      "142:\tlearn: 48.5015131\ttotal: 10m 39s\tremaining: 4m 14s\n",
      "143:\tlearn: 48.4822094\ttotal: 10m 44s\tremaining: 4m 10s\n",
      "144:\tlearn: 48.4614618\ttotal: 10m 48s\tremaining: 4m 6s\n",
      "145:\tlearn: 48.4433366\ttotal: 10m 52s\tremaining: 4m 1s\n",
      "146:\tlearn: 48.4268748\ttotal: 10m 57s\tremaining: 3m 57s\n",
      "147:\tlearn: 48.4056253\ttotal: 11m 1s\tremaining: 3m 52s\n",
      "148:\tlearn: 48.3856900\ttotal: 11m 6s\tremaining: 3m 48s\n",
      "149:\tlearn: 48.3715276\ttotal: 11m 10s\tremaining: 3m 43s\n",
      "150:\tlearn: 48.3443162\ttotal: 11m 15s\tremaining: 3m 39s\n",
      "151:\tlearn: 48.3270331\ttotal: 11m 19s\tremaining: 3m 34s\n",
      "152:\tlearn: 48.3103385\ttotal: 11m 23s\tremaining: 3m 30s\n",
      "153:\tlearn: 48.2915915\ttotal: 11m 28s\tremaining: 3m 25s\n",
      "154:\tlearn: 48.2771154\ttotal: 11m 32s\tremaining: 3m 21s\n",
      "155:\tlearn: 48.2603438\ttotal: 11m 37s\tremaining: 3m 16s\n",
      "156:\tlearn: 48.2406158\ttotal: 11m 41s\tremaining: 3m 12s\n",
      "157:\tlearn: 48.2138850\ttotal: 11m 46s\tremaining: 3m 7s\n",
      "158:\tlearn: 48.1984909\ttotal: 11m 50s\tremaining: 3m 3s\n",
      "159:\tlearn: 48.1831313\ttotal: 11m 54s\tremaining: 2m 58s\n",
      "160:\tlearn: 48.1701797\ttotal: 11m 59s\tremaining: 2m 54s\n",
      "161:\tlearn: 48.1511888\ttotal: 12m 3s\tremaining: 2m 49s\n",
      "162:\tlearn: 48.1377640\ttotal: 12m 8s\tremaining: 2m 45s\n",
      "163:\tlearn: 48.1212806\ttotal: 12m 12s\tremaining: 2m 40s\n",
      "164:\tlearn: 48.0981788\ttotal: 12m 16s\tremaining: 2m 36s\n",
      "165:\tlearn: 48.0785714\ttotal: 12m 21s\tremaining: 2m 31s\n",
      "166:\tlearn: 48.0643418\ttotal: 12m 25s\tremaining: 2m 27s\n",
      "167:\tlearn: 48.0500170\ttotal: 12m 30s\tremaining: 2m 22s\n",
      "168:\tlearn: 48.0223224\ttotal: 12m 34s\tremaining: 2m 18s\n",
      "169:\tlearn: 48.0042229\ttotal: 12m 39s\tremaining: 2m 13s\n",
      "170:\tlearn: 47.9855771\ttotal: 12m 43s\tremaining: 2m 9s\n",
      "171:\tlearn: 47.9660278\ttotal: 12m 48s\tremaining: 2m 5s\n",
      "172:\tlearn: 47.9489245\ttotal: 12m 52s\tremaining: 2m\n",
      "173:\tlearn: 47.9384345\ttotal: 12m 56s\tremaining: 1m 56s\n",
      "174:\tlearn: 47.9248082\ttotal: 13m 1s\tremaining: 1m 51s\n",
      "175:\tlearn: 47.9034753\ttotal: 13m 5s\tremaining: 1m 47s\n",
      "176:\tlearn: 47.8882841\ttotal: 13m 10s\tremaining: 1m 42s\n",
      "177:\tlearn: 47.8739936\ttotal: 13m 14s\tremaining: 1m 38s\n",
      "178:\tlearn: 47.8581970\ttotal: 13m 19s\tremaining: 1m 33s\n",
      "179:\tlearn: 47.8398631\ttotal: 13m 23s\tremaining: 1m 29s\n",
      "180:\tlearn: 47.8257885\ttotal: 13m 27s\tremaining: 1m 24s\n",
      "181:\tlearn: 47.8082722\ttotal: 13m 32s\tremaining: 1m 20s\n",
      "182:\tlearn: 47.7885678\ttotal: 13m 36s\tremaining: 1m 15s\n",
      "183:\tlearn: 47.7677505\ttotal: 13m 41s\tremaining: 1m 11s\n",
      "184:\tlearn: 47.7575040\ttotal: 13m 45s\tremaining: 1m 6s\n",
      "185:\tlearn: 47.7456629\ttotal: 13m 50s\tremaining: 1m 2s\n",
      "186:\tlearn: 47.7318607\ttotal: 13m 54s\tremaining: 58s\n",
      "187:\tlearn: 47.7156092\ttotal: 13m 58s\tremaining: 53.5s\n",
      "188:\tlearn: 47.7030984\ttotal: 14m 3s\tremaining: 49.1s\n",
      "189:\tlearn: 47.6892424\ttotal: 14m 7s\tremaining: 44.6s\n",
      "190:\tlearn: 47.6739589\ttotal: 14m 12s\tremaining: 40.2s\n",
      "191:\tlearn: 47.6586539\ttotal: 14m 16s\tremaining: 35.7s\n",
      "192:\tlearn: 47.6429775\ttotal: 14m 20s\tremaining: 31.2s\n",
      "193:\tlearn: 47.6292709\ttotal: 14m 25s\tremaining: 26.8s\n",
      "194:\tlearn: 47.6170737\ttotal: 14m 29s\tremaining: 22.3s\n",
      "195:\tlearn: 47.6035039\ttotal: 14m 34s\tremaining: 17.8s\n",
      "196:\tlearn: 47.5921228\ttotal: 14m 38s\tremaining: 13.4s\n",
      "197:\tlearn: 47.5737052\ttotal: 14m 43s\tremaining: 8.92s\n",
      "198:\tlearn: 47.5646732\ttotal: 14m 47s\tremaining: 4.46s\n",
      "199:\tlearn: 47.5503641\ttotal: 14m 51s\tremaining: 0us\n",
      "1 0.6684483395224494\n",
      "Train...\n",
      "0:\tlearn: 74.4683208\ttotal: 4.54s\tremaining: 15m 3s\n",
      "1:\tlearn: 72.3371653\ttotal: 9.11s\tremaining: 15m 2s\n",
      "2:\tlearn: 70.4669006\ttotal: 13.8s\tremaining: 15m 5s\n",
      "3:\tlearn: 68.8214912\ttotal: 18.5s\tremaining: 15m 5s\n",
      "4:\tlearn: 67.2808294\ttotal: 23.1s\tremaining: 15m 1s\n",
      "5:\tlearn: 66.0114044\ttotal: 28.1s\tremaining: 15m 8s\n",
      "6:\tlearn: 64.7851358\ttotal: 32.6s\tremaining: 14m 58s\n",
      "7:\tlearn: 63.7169011\ttotal: 37.2s\tremaining: 14m 52s\n",
      "8:\tlearn: 62.8090538\ttotal: 41.7s\tremaining: 14m 44s\n",
      "9:\tlearn: 61.9491271\ttotal: 46.3s\tremaining: 14m 40s\n",
      "10:\tlearn: 61.1675750\ttotal: 50.8s\tremaining: 14m 32s\n",
      "11:\tlearn: 60.5118738\ttotal: 55.3s\tremaining: 14m 25s\n",
      "12:\tlearn: 59.9704161\ttotal: 59.7s\tremaining: 14m 19s\n",
      "13:\tlearn: 59.4094535\ttotal: 1m 4s\tremaining: 14m 13s\n",
      "14:\tlearn: 58.9305818\ttotal: 1m 8s\tremaining: 14m 7s\n",
      "15:\tlearn: 58.4827793\ttotal: 1m 13s\tremaining: 14m 1s\n",
      "16:\tlearn: 58.0630534\ttotal: 1m 17s\tremaining: 13m 55s\n",
      "17:\tlearn: 57.6743513\ttotal: 1m 22s\tremaining: 13m 49s\n",
      "18:\tlearn: 57.2869277\ttotal: 1m 26s\tremaining: 13m 45s\n",
      "19:\tlearn: 56.9425494\ttotal: 1m 31s\tremaining: 13m 40s\n",
      "20:\tlearn: 56.6107301\ttotal: 1m 35s\tremaining: 13m 35s\n",
      "21:\tlearn: 56.3348732\ttotal: 1m 40s\tremaining: 13m 29s\n",
      "22:\tlearn: 56.0613314\ttotal: 1m 44s\tremaining: 13m 24s\n",
      "23:\tlearn: 55.8044265\ttotal: 1m 49s\tremaining: 13m 19s\n",
      "24:\tlearn: 55.5556723\ttotal: 1m 53s\tremaining: 13m 15s\n",
      "25:\tlearn: 55.3274807\ttotal: 1m 58s\tremaining: 13m 11s\n",
      "26:\tlearn: 55.0785856\ttotal: 2m 2s\tremaining: 13m 6s\n",
      "27:\tlearn: 54.8777137\ttotal: 2m 7s\tremaining: 13m 1s\n",
      "28:\tlearn: 54.6611528\ttotal: 2m 11s\tremaining: 12m 56s\n",
      "29:\tlearn: 54.4762420\ttotal: 2m 16s\tremaining: 12m 51s\n",
      "30:\tlearn: 54.3009497\ttotal: 2m 20s\tremaining: 12m 46s\n",
      "31:\tlearn: 54.1399450\ttotal: 2m 25s\tremaining: 12m 42s\n",
      "32:\tlearn: 53.9592584\ttotal: 2m 29s\tremaining: 12m 37s\n",
      "33:\tlearn: 53.7920060\ttotal: 2m 34s\tremaining: 12m 33s\n",
      "34:\tlearn: 53.6307317\ttotal: 2m 38s\tremaining: 12m 28s\n",
      "35:\tlearn: 53.4875690\ttotal: 2m 43s\tremaining: 12m 24s\n",
      "36:\tlearn: 53.3501459\ttotal: 2m 47s\tremaining: 12m 19s\n",
      "37:\tlearn: 53.2179509\ttotal: 2m 52s\tremaining: 12m 14s\n",
      "38:\tlearn: 53.0880477\ttotal: 2m 56s\tremaining: 12m 10s\n",
      "39:\tlearn: 52.9687705\ttotal: 3m 1s\tremaining: 12m 5s\n",
      "40:\tlearn: 52.8394621\ttotal: 3m 5s\tremaining: 12m 1s\n",
      "41:\tlearn: 52.7285340\ttotal: 3m 10s\tremaining: 11m 56s\n",
      "42:\tlearn: 52.5976094\ttotal: 3m 15s\tremaining: 11m 52s\n",
      "43:\tlearn: 52.4926798\ttotal: 3m 19s\tremaining: 11m 47s\n",
      "44:\tlearn: 52.3970027\ttotal: 3m 24s\tremaining: 11m 42s\n",
      "45:\tlearn: 52.3008858\ttotal: 3m 28s\tremaining: 11m 38s\n",
      "46:\tlearn: 52.2059122\ttotal: 3m 33s\tremaining: 11m 33s\n",
      "47:\tlearn: 52.1060275\ttotal: 3m 37s\tremaining: 11m 29s\n",
      "48:\tlearn: 52.0199713\ttotal: 3m 42s\tremaining: 11m 24s\n",
      "49:\tlearn: 51.9188973\ttotal: 3m 46s\tremaining: 11m 19s\n",
      "50:\tlearn: 51.8480775\ttotal: 3m 51s\tremaining: 11m 15s\n",
      "51:\tlearn: 51.7748646\ttotal: 3m 55s\tremaining: 11m 10s\n",
      "52:\tlearn: 51.7029742\ttotal: 4m\tremaining: 11m 5s\n",
      "53:\tlearn: 51.6112002\ttotal: 4m 4s\tremaining: 11m 1s\n",
      "54:\tlearn: 51.5367042\ttotal: 4m 9s\tremaining: 10m 56s\n",
      "55:\tlearn: 51.4538179\ttotal: 4m 13s\tremaining: 10m 52s\n",
      "56:\tlearn: 51.3999493\ttotal: 4m 18s\tremaining: 10m 47s\n",
      "57:\tlearn: 51.3254556\ttotal: 4m 22s\tremaining: 10m 42s\n",
      "58:\tlearn: 51.2475116\ttotal: 4m 27s\tremaining: 10m 38s\n",
      "59:\tlearn: 51.1688651\ttotal: 4m 31s\tremaining: 10m 33s\n",
      "60:\tlearn: 51.1113921\ttotal: 4m 36s\tremaining: 10m 29s\n",
      "61:\tlearn: 51.0467518\ttotal: 4m 40s\tremaining: 10m 24s\n",
      "62:\tlearn: 50.9954760\ttotal: 4m 45s\tremaining: 10m 20s\n",
      "63:\tlearn: 50.9338032\ttotal: 4m 49s\tremaining: 10m 15s\n",
      "64:\tlearn: 50.8690573\ttotal: 4m 54s\tremaining: 10m 11s\n",
      "65:\tlearn: 50.8094704\ttotal: 4m 58s\tremaining: 10m 6s\n",
      "66:\tlearn: 50.7622233\ttotal: 5m 3s\tremaining: 10m 1s\n",
      "67:\tlearn: 50.7088102\ttotal: 5m 7s\tremaining: 9m 56s\n",
      "68:\tlearn: 50.6466465\ttotal: 5m 12s\tremaining: 9m 52s\n",
      "69:\tlearn: 50.5968619\ttotal: 5m 16s\tremaining: 9m 47s\n",
      "70:\tlearn: 50.5504539\ttotal: 5m 21s\tremaining: 9m 43s\n",
      "71:\tlearn: 50.5042345\ttotal: 5m 25s\tremaining: 9m 38s\n",
      "72:\tlearn: 50.4578808\ttotal: 5m 29s\tremaining: 9m 34s\n",
      "73:\tlearn: 50.4046544\ttotal: 5m 34s\tremaining: 9m 29s\n",
      "74:\tlearn: 50.3482531\ttotal: 5m 39s\tremaining: 9m 25s\n",
      "75:\tlearn: 50.2989606\ttotal: 5m 43s\tremaining: 9m 20s\n",
      "76:\tlearn: 50.2545056\ttotal: 5m 48s\tremaining: 9m 16s\n",
      "77:\tlearn: 50.2176058\ttotal: 5m 52s\tremaining: 9m 11s\n",
      "78:\tlearn: 50.1769234\ttotal: 5m 57s\tremaining: 9m 6s\n",
      "79:\tlearn: 50.1345481\ttotal: 6m 1s\tremaining: 9m 2s\n",
      "80:\tlearn: 50.0930915\ttotal: 6m 6s\tremaining: 8m 58s\n",
      "81:\tlearn: 50.0502385\ttotal: 6m 10s\tremaining: 8m 53s\n",
      "82:\tlearn: 50.0101178\ttotal: 6m 15s\tremaining: 8m 48s\n",
      "83:\tlearn: 49.9868663\ttotal: 6m 19s\tremaining: 8m 44s\n",
      "84:\tlearn: 49.9526884\ttotal: 6m 23s\tremaining: 8m 39s\n",
      "85:\tlearn: 49.9105517\ttotal: 6m 28s\tremaining: 8m 34s\n",
      "86:\tlearn: 49.8769702\ttotal: 6m 32s\tremaining: 8m 30s\n",
      "87:\tlearn: 49.8481696\ttotal: 6m 37s\tremaining: 8m 25s\n",
      "88:\tlearn: 49.8053954\ttotal: 6m 41s\tremaining: 8m 20s\n",
      "89:\tlearn: 49.7808228\ttotal: 6m 46s\tremaining: 8m 16s\n",
      "90:\tlearn: 49.7437689\ttotal: 6m 50s\tremaining: 8m 11s\n",
      "91:\tlearn: 49.7151028\ttotal: 6m 55s\tremaining: 8m 7s\n",
      "92:\tlearn: 49.6908602\ttotal: 6m 59s\tremaining: 8m 2s\n",
      "93:\tlearn: 49.6603119\ttotal: 7m 4s\tremaining: 7m 58s\n",
      "94:\tlearn: 49.6338112\ttotal: 7m 8s\tremaining: 7m 53s\n",
      "95:\tlearn: 49.5973324\ttotal: 7m 13s\tremaining: 7m 49s\n",
      "96:\tlearn: 49.5641917\ttotal: 7m 17s\tremaining: 7m 44s\n",
      "97:\tlearn: 49.5375893\ttotal: 7m 21s\tremaining: 7m 40s\n",
      "98:\tlearn: 49.5130266\ttotal: 7m 26s\tremaining: 7m 35s\n",
      "99:\tlearn: 49.4868091\ttotal: 7m 30s\tremaining: 7m 30s\n",
      "100:\tlearn: 49.4639897\ttotal: 7m 35s\tremaining: 7m 26s\n",
      "101:\tlearn: 49.4340337\ttotal: 7m 39s\tremaining: 7m 21s\n",
      "102:\tlearn: 49.4049283\ttotal: 7m 43s\tremaining: 7m 16s\n",
      "103:\tlearn: 49.3783192\ttotal: 7m 48s\tremaining: 7m 12s\n",
      "104:\tlearn: 49.3450315\ttotal: 7m 52s\tremaining: 7m 7s\n",
      "105:\tlearn: 49.3114827\ttotal: 7m 57s\tremaining: 7m 3s\n",
      "106:\tlearn: 49.2774013\ttotal: 8m 1s\tremaining: 6m 58s\n",
      "107:\tlearn: 49.2468079\ttotal: 8m 6s\tremaining: 6m 54s\n",
      "108:\tlearn: 49.2200547\ttotal: 8m 10s\tremaining: 6m 49s\n",
      "109:\tlearn: 49.1980638\ttotal: 8m 15s\tremaining: 6m 45s\n",
      "110:\tlearn: 49.1727097\ttotal: 8m 19s\tremaining: 6m 40s\n",
      "111:\tlearn: 49.1464072\ttotal: 8m 23s\tremaining: 6m 35s\n",
      "112:\tlearn: 49.1165513\ttotal: 8m 28s\tremaining: 6m 31s\n",
      "113:\tlearn: 49.0909536\ttotal: 8m 32s\tremaining: 6m 26s\n",
      "114:\tlearn: 49.0610768\ttotal: 8m 37s\tremaining: 6m 22s\n",
      "115:\tlearn: 49.0368820\ttotal: 8m 41s\tremaining: 6m 17s\n",
      "116:\tlearn: 49.0027807\ttotal: 8m 46s\tremaining: 6m 13s\n",
      "117:\tlearn: 48.9817743\ttotal: 8m 50s\tremaining: 6m 8s\n",
      "118:\tlearn: 48.9582175\ttotal: 8m 55s\tremaining: 6m 4s\n",
      "119:\tlearn: 48.9364981\ttotal: 8m 59s\tremaining: 5m 59s\n",
      "120:\tlearn: 48.9114994\ttotal: 9m 3s\tremaining: 5m 55s\n",
      "121:\tlearn: 48.8877795\ttotal: 9m 8s\tremaining: 5m 50s\n",
      "122:\tlearn: 48.8610785\ttotal: 9m 12s\tremaining: 5m 46s\n",
      "123:\tlearn: 48.8414352\ttotal: 9m 17s\tremaining: 5m 41s\n",
      "124:\tlearn: 48.8209781\ttotal: 9m 21s\tremaining: 5m 36s\n",
      "125:\tlearn: 48.7992088\ttotal: 9m 26s\tremaining: 5m 32s\n",
      "126:\tlearn: 48.7744584\ttotal: 9m 30s\tremaining: 5m 27s\n",
      "127:\tlearn: 48.7504405\ttotal: 9m 34s\tremaining: 5m 23s\n",
      "128:\tlearn: 48.7253296\ttotal: 9m 39s\tremaining: 5m 18s\n",
      "129:\tlearn: 48.7045655\ttotal: 9m 43s\tremaining: 5m 14s\n",
      "130:\tlearn: 48.6725559\ttotal: 9m 48s\tremaining: 5m 9s\n",
      "131:\tlearn: 48.6526856\ttotal: 9m 52s\tremaining: 5m 5s\n",
      "132:\tlearn: 48.6303509\ttotal: 9m 57s\tremaining: 5m\n",
      "133:\tlearn: 48.6120534\ttotal: 10m 1s\tremaining: 4m 56s\n",
      "134:\tlearn: 48.5951983\ttotal: 10m 5s\tremaining: 4m 51s\n",
      "135:\tlearn: 48.5715414\ttotal: 10m 10s\tremaining: 4m 47s\n",
      "136:\tlearn: 48.5508826\ttotal: 10m 14s\tremaining: 4m 42s\n",
      "137:\tlearn: 48.5248390\ttotal: 10m 18s\tremaining: 4m 38s\n",
      "138:\tlearn: 48.4993816\ttotal: 10m 23s\tremaining: 4m 33s\n",
      "139:\tlearn: 48.4823105\ttotal: 10m 27s\tremaining: 4m 29s\n",
      "140:\tlearn: 48.4617612\ttotal: 10m 32s\tremaining: 4m 24s\n",
      "141:\tlearn: 48.4421242\ttotal: 10m 36s\tremaining: 4m 20s\n",
      "142:\tlearn: 48.4296730\ttotal: 10m 41s\tremaining: 4m 15s\n",
      "143:\tlearn: 48.4121184\ttotal: 10m 45s\tremaining: 4m 11s\n",
      "144:\tlearn: 48.3942708\ttotal: 10m 49s\tremaining: 4m 6s\n",
      "145:\tlearn: 48.3801525\ttotal: 10m 54s\tremaining: 4m 2s\n",
      "146:\tlearn: 48.3634815\ttotal: 10m 58s\tremaining: 3m 57s\n",
      "147:\tlearn: 48.3437032\ttotal: 11m 3s\tremaining: 3m 52s\n",
      "148:\tlearn: 48.3258172\ttotal: 11m 7s\tremaining: 3m 48s\n",
      "149:\tlearn: 48.3087569\ttotal: 11m 11s\tremaining: 3m 43s\n",
      "150:\tlearn: 48.2882993\ttotal: 11m 16s\tremaining: 3m 39s\n",
      "151:\tlearn: 48.2738159\ttotal: 11m 20s\tremaining: 3m 35s\n",
      "152:\tlearn: 48.2532387\ttotal: 11m 25s\tremaining: 3m 30s\n",
      "153:\tlearn: 48.2368192\ttotal: 11m 29s\tremaining: 3m 26s\n",
      "154:\tlearn: 48.2189360\ttotal: 11m 34s\tremaining: 3m 21s\n",
      "155:\tlearn: 48.1977716\ttotal: 11m 38s\tremaining: 3m 17s\n",
      "156:\tlearn: 48.1815903\ttotal: 11m 43s\tremaining: 3m 12s\n",
      "157:\tlearn: 48.1617022\ttotal: 11m 47s\tremaining: 3m 8s\n",
      "158:\tlearn: 48.1436123\ttotal: 11m 51s\tremaining: 3m 3s\n",
      "159:\tlearn: 48.1284241\ttotal: 11m 56s\tremaining: 2m 59s\n",
      "160:\tlearn: 48.1082969\ttotal: 12m\tremaining: 2m 54s\n",
      "161:\tlearn: 48.0937713\ttotal: 12m 5s\tremaining: 2m 50s\n",
      "162:\tlearn: 48.0768321\ttotal: 12m 9s\tremaining: 2m 45s\n",
      "163:\tlearn: 48.0593918\ttotal: 12m 14s\tremaining: 2m 41s\n",
      "164:\tlearn: 48.0399187\ttotal: 12m 18s\tremaining: 2m 36s\n",
      "165:\tlearn: 48.0247778\ttotal: 12m 22s\tremaining: 2m 32s\n",
      "166:\tlearn: 48.0100690\ttotal: 12m 27s\tremaining: 2m 27s\n",
      "167:\tlearn: 47.9889883\ttotal: 12m 31s\tremaining: 2m 23s\n",
      "168:\tlearn: 47.9699287\ttotal: 12m 36s\tremaining: 2m 18s\n",
      "169:\tlearn: 47.9521108\ttotal: 12m 40s\tremaining: 2m 14s\n",
      "170:\tlearn: 47.9383963\ttotal: 12m 44s\tremaining: 2m 9s\n",
      "171:\tlearn: 47.9217425\ttotal: 12m 49s\tremaining: 2m 5s\n",
      "172:\tlearn: 47.9070847\ttotal: 12m 53s\tremaining: 2m\n",
      "173:\tlearn: 47.8904220\ttotal: 12m 58s\tremaining: 1m 56s\n",
      "174:\tlearn: 47.8711706\ttotal: 13m 2s\tremaining: 1m 51s\n",
      "175:\tlearn: 47.8580089\ttotal: 13m 7s\tremaining: 1m 47s\n",
      "176:\tlearn: 47.8400452\ttotal: 13m 11s\tremaining: 1m 42s\n",
      "177:\tlearn: 47.8235160\ttotal: 13m 16s\tremaining: 1m 38s\n",
      "178:\tlearn: 47.8082434\ttotal: 13m 20s\tremaining: 1m 33s\n",
      "179:\tlearn: 47.7928602\ttotal: 13m 24s\tremaining: 1m 29s\n",
      "180:\tlearn: 47.7776601\ttotal: 13m 29s\tremaining: 1m 24s\n",
      "181:\tlearn: 47.7645545\ttotal: 13m 33s\tremaining: 1m 20s\n",
      "182:\tlearn: 47.7515939\ttotal: 13m 38s\tremaining: 1m 16s\n",
      "183:\tlearn: 47.7321837\ttotal: 13m 42s\tremaining: 1m 11s\n",
      "184:\tlearn: 47.7086323\ttotal: 13m 47s\tremaining: 1m 7s\n",
      "185:\tlearn: 47.6972655\ttotal: 13m 51s\tremaining: 1m 2s\n",
      "186:\tlearn: 47.6771883\ttotal: 13m 56s\tremaining: 58.1s\n",
      "187:\tlearn: 47.6628658\ttotal: 14m\tremaining: 53.6s\n",
      "188:\tlearn: 47.6455766\ttotal: 14m 4s\tremaining: 49.2s\n",
      "189:\tlearn: 47.6302154\ttotal: 14m 9s\tremaining: 44.7s\n",
      "190:\tlearn: 47.6204544\ttotal: 14m 13s\tremaining: 40.2s\n",
      "191:\tlearn: 47.6052704\ttotal: 14m 18s\tremaining: 35.8s\n",
      "192:\tlearn: 47.5958826\ttotal: 14m 22s\tremaining: 31.3s\n",
      "193:\tlearn: 47.5820621\ttotal: 14m 27s\tremaining: 26.8s\n",
      "194:\tlearn: 47.5690370\ttotal: 14m 31s\tremaining: 22.3s\n",
      "195:\tlearn: 47.5559475\ttotal: 14m 35s\tremaining: 17.9s\n",
      "196:\tlearn: 47.5441933\ttotal: 14m 40s\tremaining: 13.4s\n",
      "197:\tlearn: 47.5288310\ttotal: 14m 44s\tremaining: 8.94s\n",
      "198:\tlearn: 47.5190609\ttotal: 14m 49s\tremaining: 4.47s\n",
      "199:\tlearn: 47.5071839\ttotal: 14m 53s\tremaining: 0us\n",
      "2 0.6684293707257283\n",
      "Train...\n",
      "0:\tlearn: 74.4960195\ttotal: 4.54s\tremaining: 15m 4s\n",
      "1:\tlearn: 72.3300447\ttotal: 9.1s\tremaining: 15m 1s\n",
      "2:\tlearn: 70.5773448\ttotal: 13.7s\tremaining: 15m\n",
      "3:\tlearn: 68.8867664\ttotal: 18.2s\tremaining: 14m 53s\n",
      "4:\tlearn: 67.3243609\ttotal: 22.8s\tremaining: 14m 47s\n",
      "5:\tlearn: 66.0443882\ttotal: 27.4s\tremaining: 14m 46s\n",
      "6:\tlearn: 64.8028419\ttotal: 32s\tremaining: 14m 41s\n",
      "7:\tlearn: 63.7664887\ttotal: 36.5s\tremaining: 14m 36s\n",
      "8:\tlearn: 62.8188039\ttotal: 41.1s\tremaining: 14m 32s\n",
      "9:\tlearn: 61.9754056\ttotal: 45.7s\tremaining: 14m 27s\n",
      "10:\tlearn: 61.2282563\ttotal: 50.2s\tremaining: 14m 22s\n",
      "11:\tlearn: 60.6287946\ttotal: 54.6s\tremaining: 14m 15s\n",
      "12:\tlearn: 60.0591776\ttotal: 59.3s\tremaining: 14m 12s\n",
      "13:\tlearn: 59.5126645\ttotal: 1m 3s\tremaining: 14m 9s\n",
      "14:\tlearn: 59.0528882\ttotal: 1m 8s\tremaining: 14m 3s\n",
      "15:\tlearn: 58.5746090\ttotal: 1m 12s\tremaining: 13m 58s\n",
      "16:\tlearn: 58.1568675\ttotal: 1m 17s\tremaining: 13m 53s\n",
      "17:\tlearn: 57.7014076\ttotal: 1m 22s\tremaining: 13m 50s\n",
      "18:\tlearn: 57.3982400\ttotal: 1m 26s\tremaining: 13m 44s\n",
      "19:\tlearn: 57.0278213\ttotal: 1m 31s\tremaining: 13m 39s\n",
      "20:\tlearn: 56.6756721\ttotal: 1m 35s\tremaining: 13m 35s\n",
      "21:\tlearn: 56.3823460\ttotal: 1m 40s\tremaining: 13m 30s\n",
      "22:\tlearn: 56.1041855\ttotal: 1m 44s\tremaining: 13m 24s\n",
      "23:\tlearn: 55.8407609\ttotal: 1m 49s\tremaining: 13m 21s\n",
      "24:\tlearn: 55.5971837\ttotal: 1m 53s\tremaining: 13m 16s\n",
      "25:\tlearn: 55.3585803\ttotal: 1m 58s\tremaining: 13m 11s\n",
      "26:\tlearn: 55.1198964\ttotal: 2m 2s\tremaining: 13m 7s\n",
      "27:\tlearn: 54.9309736\ttotal: 2m 7s\tremaining: 13m 3s\n",
      "28:\tlearn: 54.7209372\ttotal: 2m 12s\tremaining: 12m 59s\n",
      "29:\tlearn: 54.5334971\ttotal: 2m 16s\tremaining: 12m 55s\n",
      "30:\tlearn: 54.3603246\ttotal: 2m 21s\tremaining: 12m 50s\n",
      "31:\tlearn: 54.1674087\ttotal: 2m 25s\tremaining: 12m 46s\n",
      "32:\tlearn: 54.0209524\ttotal: 2m 30s\tremaining: 12m 41s\n",
      "33:\tlearn: 53.8565516\ttotal: 2m 34s\tremaining: 12m 36s\n",
      "34:\tlearn: 53.6978082\ttotal: 2m 39s\tremaining: 12m 32s\n",
      "35:\tlearn: 53.5643627\ttotal: 2m 43s\tremaining: 12m 26s\n",
      "36:\tlearn: 53.4035205\ttotal: 2m 48s\tremaining: 12m 22s\n",
      "37:\tlearn: 53.2662679\ttotal: 2m 53s\tremaining: 12m 18s\n",
      "38:\tlearn: 53.1307816\ttotal: 2m 57s\tremaining: 12m 14s\n",
      "39:\tlearn: 53.0129008\ttotal: 3m 2s\tremaining: 12m 9s\n",
      "40:\tlearn: 52.8978964\ttotal: 3m 6s\tremaining: 12m 4s\n",
      "41:\tlearn: 52.7795213\ttotal: 3m 11s\tremaining: 12m\n",
      "42:\tlearn: 52.6619957\ttotal: 3m 16s\tremaining: 11m 55s\n",
      "43:\tlearn: 52.5523417\ttotal: 3m 20s\tremaining: 11m 50s\n",
      "44:\tlearn: 52.4369386\ttotal: 3m 25s\tremaining: 11m 46s\n",
      "45:\tlearn: 52.3384600\ttotal: 3m 29s\tremaining: 11m 42s\n",
      "46:\tlearn: 52.2368831\ttotal: 3m 34s\tremaining: 11m 37s\n",
      "47:\tlearn: 52.1454154\ttotal: 3m 38s\tremaining: 11m 32s\n",
      "48:\tlearn: 52.0627313\ttotal: 3m 43s\tremaining: 11m 28s\n",
      "49:\tlearn: 51.9916949\ttotal: 3m 47s\tremaining: 11m 23s\n",
      "50:\tlearn: 51.9165141\ttotal: 3m 52s\tremaining: 11m 18s\n",
      "51:\tlearn: 51.8428004\ttotal: 3m 56s\tremaining: 11m 13s\n",
      "52:\tlearn: 51.7660400\ttotal: 4m 1s\tremaining: 11m 8s\n",
      "53:\tlearn: 51.6925078\ttotal: 4m 5s\tremaining: 11m 4s\n",
      "54:\tlearn: 51.6215333\ttotal: 4m 10s\tremaining: 10m 59s\n",
      "55:\tlearn: 51.5390202\ttotal: 4m 14s\tremaining: 10m 54s\n",
      "56:\tlearn: 51.4785297\ttotal: 4m 19s\tremaining: 10m 50s\n",
      "57:\tlearn: 51.4040551\ttotal: 4m 23s\tremaining: 10m 45s\n",
      "58:\tlearn: 51.3219196\ttotal: 4m 28s\tremaining: 10m 41s\n",
      "59:\tlearn: 51.2498932\ttotal: 4m 32s\tremaining: 10m 36s\n",
      "60:\tlearn: 51.1860939\ttotal: 4m 37s\tremaining: 10m 32s\n",
      "61:\tlearn: 51.1297905\ttotal: 4m 41s\tremaining: 10m 27s\n",
      "62:\tlearn: 51.0803313\ttotal: 4m 46s\tremaining: 10m 22s\n",
      "63:\tlearn: 51.0169333\ttotal: 4m 51s\tremaining: 10m 18s\n",
      "64:\tlearn: 50.9595128\ttotal: 4m 55s\tremaining: 10m 13s\n",
      "65:\tlearn: 50.8981364\ttotal: 4m 59s\tremaining: 10m 8s\n",
      "66:\tlearn: 50.8358633\ttotal: 5m 4s\tremaining: 10m 4s\n",
      "67:\tlearn: 50.7847147\ttotal: 5m 8s\tremaining: 9m 59s\n",
      "68:\tlearn: 50.7284448\ttotal: 5m 13s\tremaining: 9m 54s\n",
      "69:\tlearn: 50.6764801\ttotal: 5m 17s\tremaining: 9m 50s\n",
      "70:\tlearn: 50.6268554\ttotal: 5m 22s\tremaining: 9m 45s\n",
      "71:\tlearn: 50.5786251\ttotal: 5m 26s\tremaining: 9m 40s\n",
      "72:\tlearn: 50.5243851\ttotal: 5m 31s\tremaining: 9m 36s\n",
      "73:\tlearn: 50.4944271\ttotal: 5m 35s\tremaining: 9m 31s\n",
      "74:\tlearn: 50.4378853\ttotal: 5m 40s\tremaining: 9m 27s\n",
      "75:\tlearn: 50.3892225\ttotal: 5m 44s\tremaining: 9m 22s\n",
      "76:\tlearn: 50.3446464\ttotal: 5m 49s\tremaining: 9m 17s\n",
      "77:\tlearn: 50.3021086\ttotal: 5m 53s\tremaining: 9m 13s\n",
      "78:\tlearn: 50.2592727\ttotal: 5m 58s\tremaining: 9m 8s\n",
      "79:\tlearn: 50.2191202\ttotal: 6m 2s\tremaining: 9m 4s\n",
      "80:\tlearn: 50.1832693\ttotal: 6m 7s\tremaining: 8m 59s\n",
      "81:\tlearn: 50.1466141\ttotal: 6m 11s\tremaining: 8m 55s\n",
      "82:\tlearn: 50.1067092\ttotal: 6m 16s\tremaining: 8m 50s\n",
      "83:\tlearn: 50.0822311\ttotal: 6m 20s\tremaining: 8m 45s\n",
      "84:\tlearn: 50.0454168\ttotal: 6m 25s\tremaining: 8m 41s\n",
      "85:\tlearn: 50.0123376\ttotal: 6m 29s\tremaining: 8m 36s\n",
      "86:\tlearn: 49.9765664\ttotal: 6m 34s\tremaining: 8m 32s\n",
      "87:\tlearn: 49.9475245\ttotal: 6m 38s\tremaining: 8m 27s\n",
      "88:\tlearn: 49.9043539\ttotal: 6m 43s\tremaining: 8m 23s\n",
      "89:\tlearn: 49.8824555\ttotal: 6m 47s\tremaining: 8m 18s\n",
      "90:\tlearn: 49.8425271\ttotal: 6m 52s\tremaining: 8m 13s\n",
      "91:\tlearn: 49.8083233\ttotal: 6m 56s\tremaining: 8m 9s\n",
      "92:\tlearn: 49.7799688\ttotal: 7m 1s\tremaining: 8m 4s\n",
      "93:\tlearn: 49.7461605\ttotal: 7m 5s\tremaining: 8m\n",
      "94:\tlearn: 49.7093132\ttotal: 7m 10s\tremaining: 7m 55s\n",
      "95:\tlearn: 49.6772294\ttotal: 7m 14s\tremaining: 7m 51s\n",
      "96:\tlearn: 49.6413168\ttotal: 7m 19s\tremaining: 7m 46s\n",
      "97:\tlearn: 49.6021448\ttotal: 7m 23s\tremaining: 7m 42s\n",
      "98:\tlearn: 49.5744688\ttotal: 7m 28s\tremaining: 7m 37s\n",
      "99:\tlearn: 49.5422265\ttotal: 7m 32s\tremaining: 7m 32s\n",
      "100:\tlearn: 49.5156390\ttotal: 7m 37s\tremaining: 7m 28s\n",
      "101:\tlearn: 49.4865094\ttotal: 7m 41s\tremaining: 7m 23s\n",
      "102:\tlearn: 49.4588861\ttotal: 7m 46s\tremaining: 7m 19s\n",
      "103:\tlearn: 49.4315874\ttotal: 7m 50s\tremaining: 7m 14s\n",
      "104:\tlearn: 49.4065580\ttotal: 7m 55s\tremaining: 7m 10s\n",
      "105:\tlearn: 49.3800226\ttotal: 7m 59s\tremaining: 7m 5s\n",
      "106:\tlearn: 49.3556552\ttotal: 8m 4s\tremaining: 7m\n",
      "107:\tlearn: 49.3211787\ttotal: 8m 8s\tremaining: 6m 56s\n",
      "108:\tlearn: 49.2941471\ttotal: 8m 13s\tremaining: 6m 51s\n",
      "109:\tlearn: 49.2699554\ttotal: 8m 17s\tremaining: 6m 47s\n",
      "110:\tlearn: 49.2424462\ttotal: 8m 22s\tremaining: 6m 42s\n",
      "111:\tlearn: 49.2178833\ttotal: 8m 26s\tremaining: 6m 37s\n",
      "112:\tlearn: 49.1960215\ttotal: 8m 30s\tremaining: 6m 33s\n",
      "113:\tlearn: 49.1679150\ttotal: 8m 35s\tremaining: 6m 28s\n",
      "114:\tlearn: 49.1389400\ttotal: 8m 39s\tremaining: 6m 24s\n",
      "115:\tlearn: 49.1189755\ttotal: 8m 44s\tremaining: 6m 19s\n",
      "116:\tlearn: 49.0920375\ttotal: 8m 48s\tremaining: 6m 14s\n",
      "117:\tlearn: 49.0673071\ttotal: 8m 53s\tremaining: 6m 10s\n",
      "118:\tlearn: 49.0427813\ttotal: 8m 57s\tremaining: 6m 6s\n",
      "119:\tlearn: 49.0212532\ttotal: 9m 2s\tremaining: 6m 1s\n",
      "120:\tlearn: 49.0011314\ttotal: 9m 6s\tremaining: 5m 56s\n",
      "121:\tlearn: 48.9697387\ttotal: 9m 11s\tremaining: 5m 52s\n",
      "122:\tlearn: 48.9430845\ttotal: 9m 15s\tremaining: 5m 47s\n",
      "123:\tlearn: 48.9192678\ttotal: 9m 20s\tremaining: 5m 43s\n",
      "124:\tlearn: 48.8964055\ttotal: 9m 24s\tremaining: 5m 38s\n",
      "125:\tlearn: 48.8683397\ttotal: 9m 28s\tremaining: 5m 34s\n",
      "126:\tlearn: 48.8442213\ttotal: 9m 33s\tremaining: 5m 29s\n",
      "127:\tlearn: 48.8133753\ttotal: 9m 38s\tremaining: 5m 25s\n",
      "128:\tlearn: 48.7892174\ttotal: 9m 42s\tremaining: 5m 20s\n",
      "129:\tlearn: 48.7663292\ttotal: 9m 46s\tremaining: 5m 16s\n",
      "130:\tlearn: 48.7504123\ttotal: 9m 51s\tremaining: 5m 11s\n",
      "131:\tlearn: 48.7269991\ttotal: 9m 55s\tremaining: 5m 6s\n",
      "132:\tlearn: 48.7033591\ttotal: 10m\tremaining: 5m 2s\n",
      "133:\tlearn: 48.6830820\ttotal: 10m 4s\tremaining: 4m 57s\n",
      "134:\tlearn: 48.6581961\ttotal: 10m 9s\tremaining: 4m 53s\n",
      "135:\tlearn: 48.6370850\ttotal: 10m 13s\tremaining: 4m 48s\n",
      "136:\tlearn: 48.6161552\ttotal: 10m 17s\tremaining: 4m 44s\n",
      "137:\tlearn: 48.5966770\ttotal: 10m 22s\tremaining: 4m 39s\n",
      "138:\tlearn: 48.5792445\ttotal: 10m 26s\tremaining: 4m 35s\n",
      "139:\tlearn: 48.5562980\ttotal: 10m 31s\tremaining: 4m 30s\n",
      "140:\tlearn: 48.5408460\ttotal: 10m 35s\tremaining: 4m 26s\n",
      "141:\tlearn: 48.5217211\ttotal: 10m 40s\tremaining: 4m 21s\n",
      "142:\tlearn: 48.5020960\ttotal: 10m 44s\tremaining: 4m 16s\n",
      "143:\tlearn: 48.4793746\ttotal: 10m 49s\tremaining: 4m 12s\n",
      "144:\tlearn: 48.4617058\ttotal: 10m 53s\tremaining: 4m 7s\n",
      "145:\tlearn: 48.4439115\ttotal: 10m 57s\tremaining: 4m 3s\n",
      "146:\tlearn: 48.4263846\ttotal: 11m 2s\tremaining: 3m 58s\n",
      "147:\tlearn: 48.4002294\ttotal: 11m 7s\tremaining: 3m 54s\n",
      "148:\tlearn: 48.3836843\ttotal: 11m 11s\tremaining: 3m 49s\n",
      "149:\tlearn: 48.3650676\ttotal: 11m 15s\tremaining: 3m 45s\n",
      "150:\tlearn: 48.3434095\ttotal: 11m 20s\tremaining: 3m 40s\n",
      "151:\tlearn: 48.3203671\ttotal: 11m 24s\tremaining: 3m 36s\n",
      "152:\tlearn: 48.3057213\ttotal: 11m 29s\tremaining: 3m 31s\n",
      "153:\tlearn: 48.2872056\ttotal: 11m 33s\tremaining: 3m 27s\n",
      "154:\tlearn: 48.2664189\ttotal: 11m 38s\tremaining: 3m 22s\n",
      "155:\tlearn: 48.2522837\ttotal: 11m 42s\tremaining: 3m 18s\n",
      "156:\tlearn: 48.2362113\ttotal: 11m 46s\tremaining: 3m 13s\n",
      "157:\tlearn: 48.2156204\ttotal: 11m 51s\tremaining: 3m 9s\n",
      "158:\tlearn: 48.1960074\ttotal: 11m 55s\tremaining: 3m 4s\n",
      "159:\tlearn: 48.1767031\ttotal: 12m\tremaining: 3m\n",
      "160:\tlearn: 48.1577308\ttotal: 12m 4s\tremaining: 2m 55s\n",
      "161:\tlearn: 48.1406783\ttotal: 12m 9s\tremaining: 2m 51s\n",
      "162:\tlearn: 48.1151738\ttotal: 12m 13s\tremaining: 2m 46s\n",
      "163:\tlearn: 48.1004379\ttotal: 12m 18s\tremaining: 2m 42s\n",
      "164:\tlearn: 48.0829059\ttotal: 12m 22s\tremaining: 2m 37s\n",
      "165:\tlearn: 48.0622891\ttotal: 12m 27s\tremaining: 2m 33s\n",
      "166:\tlearn: 48.0455968\ttotal: 12m 31s\tremaining: 2m 28s\n",
      "167:\tlearn: 48.0282346\ttotal: 12m 35s\tremaining: 2m 23s\n",
      "168:\tlearn: 48.0098648\ttotal: 12m 40s\tremaining: 2m 19s\n",
      "169:\tlearn: 47.9924384\ttotal: 12m 44s\tremaining: 2m 14s\n",
      "170:\tlearn: 47.9767903\ttotal: 12m 49s\tremaining: 2m 10s\n",
      "171:\tlearn: 47.9628251\ttotal: 12m 53s\tremaining: 2m 5s\n",
      "172:\tlearn: 47.9480670\ttotal: 12m 58s\tremaining: 2m 1s\n",
      "173:\tlearn: 47.9323195\ttotal: 13m 2s\tremaining: 1m 56s\n",
      "174:\tlearn: 47.9221749\ttotal: 13m 6s\tremaining: 1m 52s\n",
      "175:\tlearn: 47.9018316\ttotal: 13m 11s\tremaining: 1m 47s\n",
      "176:\tlearn: 47.8782505\ttotal: 13m 15s\tremaining: 1m 43s\n",
      "177:\tlearn: 47.8604353\ttotal: 13m 20s\tremaining: 1m 38s\n",
      "178:\tlearn: 47.8478468\ttotal: 13m 24s\tremaining: 1m 34s\n",
      "179:\tlearn: 47.8340799\ttotal: 13m 29s\tremaining: 1m 29s\n",
      "180:\tlearn: 47.8215922\ttotal: 13m 33s\tremaining: 1m 25s\n",
      "181:\tlearn: 47.8077549\ttotal: 13m 37s\tremaining: 1m 20s\n",
      "182:\tlearn: 47.7925568\ttotal: 13m 42s\tremaining: 1m 16s\n",
      "183:\tlearn: 47.7764172\ttotal: 13m 46s\tremaining: 1m 11s\n",
      "184:\tlearn: 47.7648518\ttotal: 13m 51s\tremaining: 1m 7s\n",
      "185:\tlearn: 47.7537446\ttotal: 13m 55s\tremaining: 1m 2s\n",
      "186:\tlearn: 47.7394385\ttotal: 14m\tremaining: 58.4s\n",
      "187:\tlearn: 47.7274789\ttotal: 14m 4s\tremaining: 53.9s\n",
      "188:\tlearn: 47.7148158\ttotal: 14m 9s\tremaining: 49.4s\n",
      "189:\tlearn: 47.6942199\ttotal: 14m 13s\tremaining: 44.9s\n",
      "190:\tlearn: 47.6826006\ttotal: 14m 18s\tremaining: 40.4s\n",
      "191:\tlearn: 47.6631097\ttotal: 14m 22s\tremaining: 35.9s\n",
      "192:\tlearn: 47.6496218\ttotal: 14m 26s\tremaining: 31.4s\n",
      "193:\tlearn: 47.6365778\ttotal: 14m 31s\tremaining: 26.9s\n",
      "194:\tlearn: 47.6251480\ttotal: 14m 35s\tremaining: 22.5s\n",
      "195:\tlearn: 47.6082386\ttotal: 14m 40s\tremaining: 18s\n",
      "196:\tlearn: 47.5936922\ttotal: 14m 44s\tremaining: 13.5s\n",
      "197:\tlearn: 47.5806889\ttotal: 14m 49s\tremaining: 8.98s\n",
      "198:\tlearn: 47.5678083\ttotal: 14m 53s\tremaining: 4.49s\n",
      "199:\tlearn: 47.5537826\ttotal: 14m 57s\tremaining: 0us\n",
      "3 0.6676787808556952\n",
      "Train...\n",
      "0:\tlearn: 74.5117073\ttotal: 4.52s\tremaining: 14m 59s\n",
      "1:\tlearn: 72.4104293\ttotal: 9.09s\tremaining: 14m 59s\n",
      "2:\tlearn: 70.5835069\ttotal: 13.7s\tremaining: 15m\n",
      "3:\tlearn: 68.9019124\ttotal: 18.4s\tremaining: 14m 59s\n",
      "4:\tlearn: 67.4581221\ttotal: 22.9s\tremaining: 14m 55s\n",
      "5:\tlearn: 66.0870537\ttotal: 27.5s\tremaining: 14m 48s\n",
      "6:\tlearn: 64.9352188\ttotal: 32.2s\tremaining: 14m 46s\n",
      "7:\tlearn: 63.8690689\ttotal: 36.7s\tremaining: 14m 41s\n",
      "8:\tlearn: 62.9097265\ttotal: 41.4s\tremaining: 14m 37s\n",
      "9:\tlearn: 62.0916217\ttotal: 45.9s\tremaining: 14m 31s\n",
      "10:\tlearn: 61.3556341\ttotal: 50.5s\tremaining: 14m 28s\n",
      "11:\tlearn: 60.6625157\ttotal: 55.1s\tremaining: 14m 22s\n",
      "12:\tlearn: 60.0828425\ttotal: 59.6s\tremaining: 14m 16s\n",
      "13:\tlearn: 59.5456735\ttotal: 1m 4s\tremaining: 14m 11s\n",
      "14:\tlearn: 59.0967684\ttotal: 1m 8s\tremaining: 14m 6s\n",
      "15:\tlearn: 58.6607673\ttotal: 1m 13s\tremaining: 14m\n",
      "16:\tlearn: 58.2504683\ttotal: 1m 17s\tremaining: 13m 54s\n",
      "17:\tlearn: 57.8412297\ttotal: 1m 22s\tremaining: 13m 49s\n",
      "18:\tlearn: 57.4546423\ttotal: 1m 26s\tremaining: 13m 45s\n",
      "19:\tlearn: 57.0978218\ttotal: 1m 31s\tremaining: 13m 40s\n",
      "20:\tlearn: 56.7514144\ttotal: 1m 35s\tremaining: 13m 36s\n",
      "21:\tlearn: 56.4522737\ttotal: 1m 40s\tremaining: 13m 30s\n",
      "22:\tlearn: 56.1952328\ttotal: 1m 44s\tremaining: 13m 25s\n",
      "23:\tlearn: 55.9304409\ttotal: 1m 49s\tremaining: 13m 20s\n",
      "24:\tlearn: 55.6459244\ttotal: 1m 53s\tremaining: 13m 16s\n",
      "25:\tlearn: 55.3911611\ttotal: 1m 58s\tremaining: 13m 12s\n",
      "26:\tlearn: 55.1848362\ttotal: 2m 2s\tremaining: 13m 7s\n",
      "27:\tlearn: 54.9920128\ttotal: 2m 7s\tremaining: 13m 2s\n",
      "28:\tlearn: 54.7671425\ttotal: 2m 12s\tremaining: 12m 58s\n",
      "29:\tlearn: 54.5702896\ttotal: 2m 16s\tremaining: 12m 53s\n",
      "30:\tlearn: 54.3729578\ttotal: 2m 21s\tremaining: 12m 49s\n",
      "31:\tlearn: 54.2016415\ttotal: 2m 25s\tremaining: 12m 44s\n",
      "32:\tlearn: 54.0324100\ttotal: 2m 30s\tremaining: 12m 40s\n",
      "33:\tlearn: 53.8741179\ttotal: 2m 34s\tremaining: 12m 35s\n",
      "34:\tlearn: 53.7092969\ttotal: 2m 39s\tremaining: 12m 31s\n",
      "35:\tlearn: 53.5697762\ttotal: 2m 43s\tremaining: 12m 26s\n",
      "36:\tlearn: 53.4251987\ttotal: 2m 48s\tremaining: 12m 21s\n",
      "37:\tlearn: 53.2782919\ttotal: 2m 52s\tremaining: 12m 17s\n",
      "38:\tlearn: 53.1552171\ttotal: 2m 57s\tremaining: 12m 12s\n",
      "39:\tlearn: 53.0361150\ttotal: 3m 2s\tremaining: 12m 8s\n",
      "40:\tlearn: 52.9211065\ttotal: 3m 6s\tremaining: 12m 3s\n",
      "41:\tlearn: 52.7857163\ttotal: 3m 11s\tremaining: 11m 59s\n",
      "42:\tlearn: 52.6691292\ttotal: 3m 15s\tremaining: 11m 54s\n",
      "43:\tlearn: 52.5692570\ttotal: 3m 20s\tremaining: 11m 49s\n",
      "44:\tlearn: 52.4742033\ttotal: 3m 24s\tremaining: 11m 44s\n",
      "45:\tlearn: 52.3766211\ttotal: 3m 29s\tremaining: 11m 40s\n",
      "46:\tlearn: 52.2790597\ttotal: 3m 33s\tremaining: 11m 35s\n",
      "47:\tlearn: 52.1712794\ttotal: 3m 38s\tremaining: 11m 31s\n",
      "48:\tlearn: 52.0839558\ttotal: 3m 42s\tremaining: 11m 27s\n",
      "49:\tlearn: 51.9803642\ttotal: 3m 47s\tremaining: 11m 22s\n",
      "50:\tlearn: 51.8980220\ttotal: 3m 52s\tremaining: 11m 17s\n",
      "51:\tlearn: 51.8214248\ttotal: 3m 56s\tremaining: 11m 13s\n",
      "52:\tlearn: 51.7430911\ttotal: 4m 1s\tremaining: 11m 8s\n",
      "53:\tlearn: 51.6699467\ttotal: 4m 5s\tremaining: 11m 4s\n",
      "54:\tlearn: 51.5977024\ttotal: 4m 10s\tremaining: 10m 59s\n",
      "55:\tlearn: 51.5138733\ttotal: 4m 14s\tremaining: 10m 54s\n",
      "56:\tlearn: 51.4570978\ttotal: 4m 19s\tremaining: 10m 50s\n",
      "57:\tlearn: 51.3784042\ttotal: 4m 23s\tremaining: 10m 45s\n",
      "58:\tlearn: 51.2965962\ttotal: 4m 28s\tremaining: 10m 40s\n",
      "59:\tlearn: 51.2191279\ttotal: 4m 32s\tremaining: 10m 36s\n",
      "60:\tlearn: 51.1475764\ttotal: 4m 37s\tremaining: 10m 31s\n",
      "61:\tlearn: 51.0804076\ttotal: 4m 41s\tremaining: 10m 27s\n",
      "62:\tlearn: 51.0260170\ttotal: 4m 46s\tremaining: 10m 22s\n",
      "63:\tlearn: 50.9662824\ttotal: 4m 50s\tremaining: 10m 17s\n",
      "64:\tlearn: 50.9105196\ttotal: 4m 55s\tremaining: 10m 13s\n",
      "65:\tlearn: 50.8540730\ttotal: 4m 59s\tremaining: 10m 8s\n",
      "66:\tlearn: 50.8066921\ttotal: 5m 4s\tremaining: 10m 3s\n",
      "67:\tlearn: 50.7538232\ttotal: 5m 8s\tremaining: 9m 59s\n",
      "68:\tlearn: 50.7042034\ttotal: 5m 13s\tremaining: 9m 54s\n",
      "69:\tlearn: 50.6435383\ttotal: 5m 17s\tremaining: 9m 50s\n",
      "70:\tlearn: 50.5873969\ttotal: 5m 22s\tremaining: 9m 46s\n",
      "71:\tlearn: 50.5327252\ttotal: 5m 27s\tremaining: 9m 41s\n",
      "72:\tlearn: 50.4818886\ttotal: 5m 31s\tremaining: 9m 36s\n",
      "73:\tlearn: 50.4464668\ttotal: 5m 36s\tremaining: 9m 32s\n",
      "74:\tlearn: 50.3960227\ttotal: 5m 40s\tremaining: 9m 27s\n",
      "75:\tlearn: 50.3522977\ttotal: 5m 45s\tremaining: 9m 23s\n",
      "76:\tlearn: 50.3146426\ttotal: 5m 49s\tremaining: 9m 18s\n",
      "77:\tlearn: 50.2704927\ttotal: 5m 54s\tremaining: 9m 14s\n",
      "78:\tlearn: 50.2292089\ttotal: 5m 58s\tremaining: 9m 9s\n",
      "79:\tlearn: 50.1921053\ttotal: 6m 3s\tremaining: 9m 4s\n",
      "80:\tlearn: 50.1603491\ttotal: 6m 7s\tremaining: 9m\n",
      "81:\tlearn: 50.1270907\ttotal: 6m 11s\tremaining: 8m 55s\n",
      "82:\tlearn: 50.0866446\ttotal: 6m 16s\tremaining: 8m 50s\n",
      "83:\tlearn: 50.0387059\ttotal: 6m 20s\tremaining: 8m 45s\n",
      "84:\tlearn: 50.0030373\ttotal: 6m 25s\tremaining: 8m 41s\n",
      "85:\tlearn: 49.9585458\ttotal: 6m 29s\tremaining: 8m 36s\n",
      "86:\tlearn: 49.9226963\ttotal: 6m 34s\tremaining: 8m 32s\n",
      "87:\tlearn: 49.8878618\ttotal: 6m 38s\tremaining: 8m 27s\n",
      "88:\tlearn: 49.8515479\ttotal: 6m 43s\tremaining: 8m 23s\n",
      "89:\tlearn: 49.8256291\ttotal: 6m 47s\tremaining: 8m 18s\n",
      "90:\tlearn: 49.7806273\ttotal: 6m 52s\tremaining: 8m 14s\n",
      "91:\tlearn: 49.7528327\ttotal: 6m 57s\tremaining: 8m 9s\n",
      "92:\tlearn: 49.7222179\ttotal: 7m 1s\tremaining: 8m 4s\n",
      "93:\tlearn: 49.6941952\ttotal: 7m 5s\tremaining: 8m\n",
      "94:\tlearn: 49.6544095\ttotal: 7m 10s\tremaining: 7m 55s\n",
      "95:\tlearn: 49.6162774\ttotal: 7m 14s\tremaining: 7m 51s\n",
      "96:\tlearn: 49.5804642\ttotal: 7m 19s\tremaining: 7m 46s\n",
      "97:\tlearn: 49.5532868\ttotal: 7m 23s\tremaining: 7m 41s\n",
      "98:\tlearn: 49.5267815\ttotal: 7m 28s\tremaining: 7m 37s\n",
      "99:\tlearn: 49.4953158\ttotal: 7m 32s\tremaining: 7m 32s\n",
      "100:\tlearn: 49.4687501\ttotal: 7m 37s\tremaining: 7m 28s\n",
      "101:\tlearn: 49.4436291\ttotal: 7m 41s\tremaining: 7m 23s\n",
      "102:\tlearn: 49.4198261\ttotal: 7m 46s\tremaining: 7m 18s\n",
      "103:\tlearn: 49.3976296\ttotal: 7m 50s\tremaining: 7m 14s\n",
      "104:\tlearn: 49.3639364\ttotal: 7m 55s\tremaining: 7m 9s\n",
      "105:\tlearn: 49.3361872\ttotal: 7m 59s\tremaining: 7m 5s\n",
      "106:\tlearn: 49.3081596\ttotal: 8m 3s\tremaining: 7m\n",
      "107:\tlearn: 49.2835096\ttotal: 8m 8s\tremaining: 6m 56s\n",
      "108:\tlearn: 49.2485789\ttotal: 8m 12s\tremaining: 6m 51s\n",
      "109:\tlearn: 49.2161995\ttotal: 8m 17s\tremaining: 6m 47s\n",
      "110:\tlearn: 49.1912452\ttotal: 8m 21s\tremaining: 6m 42s\n",
      "111:\tlearn: 49.1649483\ttotal: 8m 26s\tremaining: 6m 37s\n",
      "112:\tlearn: 49.1420523\ttotal: 8m 30s\tremaining: 6m 33s\n",
      "113:\tlearn: 49.1167345\ttotal: 8m 35s\tremaining: 6m 28s\n",
      "114:\tlearn: 49.0922194\ttotal: 8m 39s\tremaining: 6m 23s\n",
      "115:\tlearn: 49.0680125\ttotal: 8m 43s\tremaining: 6m 19s\n",
      "116:\tlearn: 49.0475377\ttotal: 8m 48s\tremaining: 6m 14s\n",
      "117:\tlearn: 49.0232692\ttotal: 8m 52s\tremaining: 6m 10s\n",
      "118:\tlearn: 49.0065344\ttotal: 8m 57s\tremaining: 6m 5s\n",
      "119:\tlearn: 48.9803456\ttotal: 9m 1s\tremaining: 6m 1s\n",
      "120:\tlearn: 48.9532405\ttotal: 9m 6s\tremaining: 5m 56s\n",
      "121:\tlearn: 48.9299710\ttotal: 9m 10s\tremaining: 5m 51s\n",
      "122:\tlearn: 48.9092705\ttotal: 9m 14s\tremaining: 5m 47s\n",
      "123:\tlearn: 48.8840270\ttotal: 9m 19s\tremaining: 5m 42s\n",
      "124:\tlearn: 48.8630693\ttotal: 9m 23s\tremaining: 5m 38s\n",
      "125:\tlearn: 48.8359468\ttotal: 9m 28s\tremaining: 5m 33s\n",
      "126:\tlearn: 48.7988397\ttotal: 9m 32s\tremaining: 5m 29s\n",
      "127:\tlearn: 48.7619688\ttotal: 9m 37s\tremaining: 5m 24s\n",
      "128:\tlearn: 48.7425446\ttotal: 9m 41s\tremaining: 5m 20s\n",
      "129:\tlearn: 48.7195152\ttotal: 9m 46s\tremaining: 5m 15s\n",
      "130:\tlearn: 48.6878923\ttotal: 9m 50s\tremaining: 5m 11s\n",
      "131:\tlearn: 48.6603339\ttotal: 9m 55s\tremaining: 5m 6s\n",
      "132:\tlearn: 48.6357197\ttotal: 9m 59s\tremaining: 5m 2s\n",
      "133:\tlearn: 48.6160987\ttotal: 10m 3s\tremaining: 4m 57s\n",
      "134:\tlearn: 48.5881211\ttotal: 10m 8s\tremaining: 4m 52s\n",
      "135:\tlearn: 48.5697382\ttotal: 10m 12s\tremaining: 4m 48s\n",
      "136:\tlearn: 48.5505049\ttotal: 10m 17s\tremaining: 4m 43s\n",
      "137:\tlearn: 48.5294445\ttotal: 10m 21s\tremaining: 4m 39s\n",
      "138:\tlearn: 48.5089802\ttotal: 10m 26s\tremaining: 4m 34s\n",
      "139:\tlearn: 48.4897621\ttotal: 10m 30s\tremaining: 4m 30s\n",
      "140:\tlearn: 48.4649693\ttotal: 10m 35s\tremaining: 4m 25s\n",
      "141:\tlearn: 48.4481845\ttotal: 10m 39s\tremaining: 4m 21s\n",
      "142:\tlearn: 48.4293012\ttotal: 10m 43s\tremaining: 4m 16s\n",
      "143:\tlearn: 48.4084689\ttotal: 10m 48s\tremaining: 4m 12s\n",
      "144:\tlearn: 48.3897123\ttotal: 10m 52s\tremaining: 4m 7s\n",
      "145:\tlearn: 48.3689739\ttotal: 10m 57s\tremaining: 4m 3s\n",
      "146:\tlearn: 48.3560611\ttotal: 11m 1s\tremaining: 3m 58s\n",
      "147:\tlearn: 48.3358661\ttotal: 11m 6s\tremaining: 3m 54s\n",
      "148:\tlearn: 48.3225960\ttotal: 11m 10s\tremaining: 3m 49s\n",
      "149:\tlearn: 48.3051581\ttotal: 11m 14s\tremaining: 3m 44s\n",
      "150:\tlearn: 48.2862411\ttotal: 11m 19s\tremaining: 3m 40s\n",
      "151:\tlearn: 48.2655948\ttotal: 11m 23s\tremaining: 3m 35s\n",
      "152:\tlearn: 48.2476495\ttotal: 11m 28s\tremaining: 3m 31s\n",
      "153:\tlearn: 48.2297794\ttotal: 11m 32s\tremaining: 3m 26s\n",
      "154:\tlearn: 48.2077375\ttotal: 11m 37s\tremaining: 3m 22s\n",
      "155:\tlearn: 48.1917878\ttotal: 11m 41s\tremaining: 3m 17s\n",
      "156:\tlearn: 48.1721235\ttotal: 11m 45s\tremaining: 3m 13s\n",
      "157:\tlearn: 48.1536065\ttotal: 11m 50s\tremaining: 3m 8s\n",
      "158:\tlearn: 48.1366945\ttotal: 11m 54s\tremaining: 3m 4s\n",
      "159:\tlearn: 48.1245267\ttotal: 11m 58s\tremaining: 2m 59s\n",
      "160:\tlearn: 48.1056044\ttotal: 12m 3s\tremaining: 2m 55s\n",
      "161:\tlearn: 48.0920842\ttotal: 12m 7s\tremaining: 2m 50s\n",
      "162:\tlearn: 48.0724903\ttotal: 12m 12s\tremaining: 2m 46s\n",
      "163:\tlearn: 48.0572327\ttotal: 12m 16s\tremaining: 2m 41s\n",
      "164:\tlearn: 48.0409805\ttotal: 12m 21s\tremaining: 2m 37s\n",
      "165:\tlearn: 48.0217933\ttotal: 12m 25s\tremaining: 2m 32s\n",
      "166:\tlearn: 47.9994351\ttotal: 12m 30s\tremaining: 2m 28s\n",
      "167:\tlearn: 47.9823182\ttotal: 12m 34s\tremaining: 2m 23s\n",
      "168:\tlearn: 47.9700152\ttotal: 12m 39s\tremaining: 2m 19s\n",
      "169:\tlearn: 47.9533634\ttotal: 12m 43s\tremaining: 2m 14s\n",
      "170:\tlearn: 47.9363700\ttotal: 12m 48s\tremaining: 2m 10s\n",
      "171:\tlearn: 47.9212501\ttotal: 12m 52s\tremaining: 2m 5s\n",
      "172:\tlearn: 47.9073505\ttotal: 12m 56s\tremaining: 2m 1s\n",
      "173:\tlearn: 47.8890393\ttotal: 13m 1s\tremaining: 1m 56s\n",
      "174:\tlearn: 47.8683766\ttotal: 13m 5s\tremaining: 1m 52s\n",
      "175:\tlearn: 47.8476872\ttotal: 13m 10s\tremaining: 1m 47s\n",
      "176:\tlearn: 47.8350047\ttotal: 13m 14s\tremaining: 1m 43s\n",
      "177:\tlearn: 47.8166663\ttotal: 13m 19s\tremaining: 1m 38s\n",
      "178:\tlearn: 47.8026779\ttotal: 13m 23s\tremaining: 1m 34s\n",
      "179:\tlearn: 47.7823402\ttotal: 13m 27s\tremaining: 1m 29s\n",
      "180:\tlearn: 47.7680027\ttotal: 13m 32s\tremaining: 1m 25s\n",
      "181:\tlearn: 47.7554577\ttotal: 13m 36s\tremaining: 1m 20s\n",
      "182:\tlearn: 47.7402601\ttotal: 13m 41s\tremaining: 1m 16s\n",
      "183:\tlearn: 47.7268257\ttotal: 13m 45s\tremaining: 1m 11s\n",
      "184:\tlearn: 47.7159164\ttotal: 13m 49s\tremaining: 1m 7s\n",
      "185:\tlearn: 47.7046414\ttotal: 13m 54s\tremaining: 1m 2s\n",
      "186:\tlearn: 47.6919574\ttotal: 13m 58s\tremaining: 58.3s\n",
      "187:\tlearn: 47.6756404\ttotal: 14m 3s\tremaining: 53.8s\n",
      "188:\tlearn: 47.6653377\ttotal: 14m 7s\tremaining: 49.3s\n",
      "189:\tlearn: 47.6515045\ttotal: 14m 12s\tremaining: 44.8s\n",
      "190:\tlearn: 47.6352940\ttotal: 14m 16s\tremaining: 40.4s\n",
      "191:\tlearn: 47.6189001\ttotal: 14m 21s\tremaining: 35.9s\n",
      "192:\tlearn: 47.5996247\ttotal: 14m 25s\tremaining: 31.4s\n",
      "193:\tlearn: 47.5879158\ttotal: 14m 29s\tremaining: 26.9s\n",
      "194:\tlearn: 47.5671737\ttotal: 14m 34s\tremaining: 22.4s\n",
      "195:\tlearn: 47.5521421\ttotal: 14m 38s\tremaining: 17.9s\n",
      "196:\tlearn: 47.5397821\ttotal: 14m 43s\tremaining: 13.5s\n",
      "197:\tlearn: 47.5221841\ttotal: 14m 47s\tremaining: 8.97s\n",
      "198:\tlearn: 47.5064384\ttotal: 14m 52s\tremaining: 4.48s\n",
      "199:\tlearn: 47.4945084\ttotal: 14m 56s\tremaining: 0us\n",
      "4 0.6677321495677656\n"
     ]
    }
   ],
   "source": [
    "np.random.seed(42)\n",
    "all_row_indices = np.arange(train_inputs.shape[0])\n",
    "np.random.shuffle(all_row_indices)\n",
    "\n",
    "kf = KFold(n_splits=5, shuffle=True, random_state=42)\n",
    "\n",
    "index = 0\n",
    "score = []\n",
    "\n",
    "# model = Ridge(copy_X=False)\n",
    "d = train_inputs.shape[0]//n\n",
    "for i in range(0, n*d, d):\n",
    "    print(f'start [{i}:{i+d}]')\n",
    "    ind = all_row_indices[i:i+d]    \n",
    "    for idx_tr, idx_va in kf.split(ind):\n",
    "        X = train_inputs[ind]\n",
    "        Y = train_target[ind] #.todense()\n",
    "        Yva = train_targets[ind][idx_va]\n",
    "        Xtr, Xva = X[idx_tr], X[idx_va]\n",
    "        Ytr = Y[idx_tr]\n",
    "        del X, Y\n",
    "        gc.collect()\n",
    "        print('Train...')\n",
    "        model.fit(Xtr, Ytr)\n",
    "        del Xtr, Ytr\n",
    "        gc.collect()\n",
    "        s = correlation_score(Yva.todense(), model.predict(Xva)@pca2.components_)\n",
    "        score.append(s)\n",
    "        print(index, s)\n",
    "        del Xva, Yva\n",
    "        gc.collect()\n",
    "        pkl_filename = f\"model{index:02d}.pkl\"\n",
    "        index += 1\n",
    "        with open(pkl_filename, 'wb') as file:\n",
    "            pickle.dump(model, file)\n",
    "#         break\n",
    "#     break\n",
    "    gc.collect()"
   ]
  },
  {
   "cell_type": "code",
   "execution_count": 15,
   "id": "d6b0b240",
   "metadata": {
    "execution": {
     "iopub.execute_input": "2022-09-14T12:48:16.462205Z",
     "iopub.status.busy": "2022-09-14T12:48:16.461296Z",
     "iopub.status.idle": "2022-09-14T12:48:16.679610Z",
     "shell.execute_reply": "2022-09-14T12:48:16.678217Z"
    },
    "papermill": {
     "duration": 0.299631,
     "end_time": "2022-09-14T12:48:16.682463",
     "exception": false,
     "start_time": "2022-09-14T12:48:16.382832",
     "status": "completed"
    },
    "tags": [],
    "vscode": {
     "languageId": "python"
    }
   },
   "outputs": [
    {
     "data": {
      "text/plain": [
       "0"
      ]
     },
     "execution_count": 15,
     "metadata": {},
     "output_type": "execute_result"
    }
   ],
   "source": [
    "del train_target, train_inputs, train_targets\n",
    "gc.collect()"
   ]
  },
  {
   "cell_type": "markdown",
   "id": "c39d894d",
   "metadata": {
    "papermill": {
     "duration": 0.07674,
     "end_time": "2022-09-14T12:48:16.839287",
     "exception": false,
     "start_time": "2022-09-14T12:48:16.762547",
     "status": "completed"
    },
    "tags": []
   },
   "source": [
    "# Predicting"
   ]
  },
  {
   "cell_type": "code",
   "execution_count": 16,
   "id": "42cc0887",
   "metadata": {
    "execution": {
     "iopub.execute_input": "2022-09-14T12:48:17.001016Z",
     "iopub.status.busy": "2022-09-14T12:48:17.000494Z",
     "iopub.status.idle": "2022-09-14T12:50:14.178216Z",
     "shell.execute_reply": "2022-09-14T12:50:14.176898Z"
    },
    "papermill": {
     "duration": 117.335062,
     "end_time": "2022-09-14T12:50:14.257488",
     "exception": false,
     "start_time": "2022-09-14T12:48:16.922426",
     "status": "completed"
    },
    "tags": [],
    "vscode": {
     "languageId": "python"
    }
   },
   "outputs": [
    {
     "name": "stdout",
     "output_type": "stream",
     "text": [
      "Wall time: 25.7 s\n"
     ]
    }
   ],
   "source": [
    "%%time\n",
    "multi_test_x = scipy.sparse.load_npz(\"C:/Users/Owner/Documents/dev/open-problem/multimodal-single-cell-as-sparse-matrix/test_multi_inputs_values.sparse.npz\")\n",
    "multi_test_x = pca.transform(multi_test_x)"
   ]
  },
  {
   "cell_type": "code",
   "execution_count": 17,
   "id": "8daa832d",
   "metadata": {
    "execution": {
     "iopub.execute_input": "2022-09-14T12:50:14.414338Z",
     "iopub.status.busy": "2022-09-14T12:50:14.413756Z",
     "iopub.status.idle": "2022-09-14T12:50:14.418800Z",
     "shell.execute_reply": "2022-09-14T12:50:14.417641Z"
    },
    "papermill": {
     "duration": 0.086684,
     "end_time": "2022-09-14T12:50:14.420980",
     "exception": false,
     "start_time": "2022-09-14T12:50:14.334296",
     "status": "completed"
    },
    "tags": [],
    "vscode": {
     "languageId": "python"
    }
   },
   "outputs": [],
   "source": [
    "# test_sd = np.std(multi_test_x, axis=1).reshape(-1, 1)\n",
    "# test_sd[test_sd == 0] = 1\n",
    "# test_norm = (multi_test_x - np.mean(multi_test_x, axis=1).reshape(-1, 1)) / test_sd\n",
    "# test_norm = test_norm.astype(np.float16)\n",
    "# del multi_test_x\n",
    "# gc.collect()"
   ]
  },
  {
   "cell_type": "code",
   "execution_count": 18,
   "id": "420073dc",
   "metadata": {
    "execution": {
     "iopub.execute_input": "2022-09-14T12:50:14.577147Z",
     "iopub.status.busy": "2022-09-14T12:50:14.576254Z",
     "iopub.status.idle": "2022-09-14T12:50:14.780345Z",
     "shell.execute_reply": "2022-09-14T12:50:14.779160Z"
    },
    "papermill": {
     "duration": 0.28538,
     "end_time": "2022-09-14T12:50:14.782808",
     "exception": false,
     "start_time": "2022-09-14T12:50:14.497428",
     "status": "completed"
    },
    "tags": [],
    "vscode": {
     "languageId": "python"
    }
   },
   "outputs": [
    {
     "data": {
      "text/plain": [
       "55"
      ]
     },
     "execution_count": 18,
     "metadata": {},
     "output_type": "execute_result"
    }
   ],
   "source": [
    "test_len = multi_test_x.shape[0]\n",
    "d = test_len//n\n",
    "x = []\n",
    "for i in range(n):\n",
    "    x.append(multi_test_x[i*d:i*d+d])\n",
    "del multi_test_x\n",
    "gc.collect()"
   ]
  },
  {
   "cell_type": "code",
   "execution_count": 19,
   "id": "b840b218",
   "metadata": {
    "execution": {
     "iopub.execute_input": "2022-09-14T12:50:14.939542Z",
     "iopub.status.busy": "2022-09-14T12:50:14.938992Z",
     "iopub.status.idle": "2022-09-14T12:50:14.947270Z",
     "shell.execute_reply": "2022-09-14T12:50:14.946343Z"
    },
    "papermill": {
     "duration": 0.089796,
     "end_time": "2022-09-14T12:50:14.949792",
     "exception": false,
     "start_time": "2022-09-14T12:50:14.859996",
     "status": "completed"
    },
    "tags": [],
    "vscode": {
     "languageId": "python"
    }
   },
   "outputs": [
    {
     "data": {
      "text/plain": [
       "5"
      ]
     },
     "execution_count": 19,
     "metadata": {},
     "output_type": "execute_result"
    }
   ],
   "source": [
    "index"
   ]
  },
  {
   "cell_type": "code",
   "execution_count": 20,
   "id": "3cf4168d",
   "metadata": {
    "execution": {
     "iopub.execute_input": "2022-09-14T12:50:15.106789Z",
     "iopub.status.busy": "2022-09-14T12:50:15.105893Z",
     "iopub.status.idle": "2022-09-14T12:52:29.947665Z",
     "shell.execute_reply": "2022-09-14T12:52:29.946373Z"
    },
    "papermill": {
     "duration": 135.002062,
     "end_time": "2022-09-14T12:52:30.029362",
     "exception": false,
     "start_time": "2022-09-14T12:50:15.027300",
     "status": "completed"
    },
    "tags": [],
    "vscode": {
     "languageId": "python"
    }
   },
   "outputs": [
    {
     "name": "stdout",
     "output_type": "stream",
     "text": [
      "0 1 2 3 4 \n"
     ]
    },
    {
     "data": {
      "text/plain": [
       "0"
      ]
     },
     "execution_count": 20,
     "metadata": {},
     "output_type": "execute_result"
    }
   ],
   "source": [
    "preds = np.zeros((test_len, 23418), dtype='float16')\n",
    "for i,xx in enumerate(x):\n",
    "    for ind in range(index):\n",
    "        print(ind, end=' ')\n",
    "        with open(f'model{ind:02}.pkl', 'rb') as file:\n",
    "            model = pickle.load(file)\n",
    "        preds[i*d:i*d+d,:] += (model.predict(xx)@pca2.components_)/index\n",
    "        gc.collect()\n",
    "    print('')\n",
    "    del xx\n",
    "gc.collect()"
   ]
  },
  {
   "cell_type": "code",
   "execution_count": 21,
   "id": "727c786d",
   "metadata": {
    "execution": {
     "iopub.execute_input": "2022-09-14T12:52:30.201614Z",
     "iopub.status.busy": "2022-09-14T12:52:30.200765Z",
     "iopub.status.idle": "2022-09-14T12:52:30.387012Z",
     "shell.execute_reply": "2022-09-14T12:52:30.385753Z"
    },
    "papermill": {
     "duration": 0.269828,
     "end_time": "2022-09-14T12:52:30.389959",
     "exception": false,
     "start_time": "2022-09-14T12:52:30.120131",
     "status": "completed"
    },
    "tags": [],
    "vscode": {
     "languageId": "python"
    }
   },
   "outputs": [
    {
     "data": {
      "text/plain": [
       "0"
      ]
     },
     "execution_count": 21,
     "metadata": {},
     "output_type": "execute_result"
    }
   ],
   "source": [
    "del x\n",
    "gc.collect()"
   ]
  },
  {
   "cell_type": "code",
   "execution_count": 22,
   "id": "77f2d695",
   "metadata": {
    "execution": {
     "iopub.execute_input": "2022-09-14T12:52:30.547435Z",
     "iopub.status.busy": "2022-09-14T12:52:30.546276Z",
     "iopub.status.idle": "2022-09-14T12:52:34.337359Z",
     "shell.execute_reply": "2022-09-14T12:52:34.335864Z"
    },
    "papermill": {
     "duration": 3.873306,
     "end_time": "2022-09-14T12:52:34.340592",
     "exception": false,
     "start_time": "2022-09-14T12:52:30.467286",
     "status": "completed"
    },
    "tags": [],
    "vscode": {
     "languageId": "python"
    }
   },
   "outputs": [],
   "source": [
    "np.save('preds.npy', preds)"
   ]
  },
  {
   "cell_type": "code",
   "execution_count": 24,
   "id": "58f921c9",
   "metadata": {
    "vscode": {
     "languageId": "python"
    }
   },
   "outputs": [
    {
     "name": "stdout",
     "output_type": "stream",
     "text": [
      "Collecting pyarrow\n",
      "  Downloading pyarrow-9.0.0-cp39-cp39-win_amd64.whl (19.6 MB)\n",
      "Collecting fastparquet\n",
      "  Downloading fastparquet-0.8.3-cp39-cp39-win_amd64.whl (605 kB)\n",
      "Requirement already satisfied: numpy>=1.16.6 in c:\\users\\owner\\pyenvs\\dev39\\lib\\site-packages (from pyarrow) (1.22.3)\n",
      "Requirement already satisfied: pandas>=1.1.0 in c:\\users\\owner\\pyenvs\\dev39\\lib\\site-packages (from fastparquet) (1.3.3)\n",
      "Requirement already satisfied: packaging in c:\\users\\owner\\pyenvs\\dev39\\lib\\site-packages (from fastparquet) (21.3)\n",
      "Collecting cramjam>=2.3.0\n",
      "  Downloading cramjam-2.5.0-cp39-none-win_amd64.whl (993 kB)\n",
      "Collecting fsspec\n",
      "  Downloading fsspec-2022.8.2-py3-none-any.whl (140 kB)\n",
      "Requirement already satisfied: python-dateutil>=2.7.3 in c:\\users\\owner\\pyenvs\\dev39\\lib\\site-packages (from pandas>=1.1.0->fastparquet) (2.8.2)\n",
      "Requirement already satisfied: pytz>=2017.3 in c:\\users\\owner\\pyenvs\\dev39\\lib\\site-packages (from pandas>=1.1.0->fastparquet) (2021.1)\n",
      "Requirement already satisfied: six>=1.5 in c:\\users\\owner\\pyenvs\\dev39\\lib\\site-packages (from python-dateutil>=2.7.3->pandas>=1.1.0->fastparquet) (1.15.0)\n",
      "Requirement already satisfied: pyparsing!=3.0.5,>=2.0.2 in c:\\users\\owner\\pyenvs\\dev39\\lib\\site-packages (from packaging->fastparquet) (2.4.7)\n",
      "Installing collected packages: fsspec, cramjam, pyarrow, fastparquet\n",
      "Successfully installed cramjam-2.5.0 fastparquet-0.8.3 fsspec-2022.8.2 pyarrow-9.0.0\n"
     ]
    },
    {
     "name": "stderr",
     "output_type": "stream",
     "text": [
      "WARNING: You are using pip version 21.2.3; however, version 22.2.2 is available.\n",
      "You should consider upgrading via the 'C:\\Users\\Owner\\pyenvs\\dev39\\Scripts\\python.exe -m pip install --upgrade pip' command.\n"
     ]
    }
   ],
   "source": [
    "!pip install pyarrow fastparquet"
   ]
  },
  {
   "cell_type": "markdown",
   "id": "a1d7aae0",
   "metadata": {
    "papermill": {
     "duration": 0.36356,
     "end_time": "2022-09-14T12:52:34.825251",
     "exception": false,
     "start_time": "2022-09-14T12:52:34.461691",
     "status": "completed"
    },
    "tags": []
   },
   "source": [
    "# Creating submission\n",
    "\n",
    "We load the cells that will have to appear in submission."
   ]
  },
  {
   "cell_type": "code",
   "execution_count": 25,
   "id": "1f745aa3",
   "metadata": {
    "execution": {
     "iopub.execute_input": "2022-09-14T12:52:35.061165Z",
     "iopub.status.busy": "2022-09-14T12:52:35.060555Z",
     "iopub.status.idle": "2022-09-14T12:53:12.476813Z",
     "shell.execute_reply": "2022-09-14T12:53:12.475113Z"
    },
    "papermill": {
     "duration": 37.631198,
     "end_time": "2022-09-14T12:53:12.567783",
     "exception": false,
     "start_time": "2022-09-14T12:52:34.936585",
     "status": "completed"
    },
    "tags": [],
    "vscode": {
     "languageId": "python"
    }
   },
   "outputs": [
    {
     "name": "stdout",
     "output_type": "stream",
     "text": [
      "Wall time: 15.4 s\n"
     ]
    }
   ],
   "source": [
    "%%time\n",
    "# Read the table of rows and columns required for submission\n",
    "eval_ids = pd.read_parquet(\"C:/Users/Owner/Documents/dev/open-problem/multimodal-single-cell-as-sparse-matrix/evaluation.parquet\")\n",
    "# Convert the string columns to more efficient categorical types\n",
    "#eval_ids.cell_id = eval_ids.cell_id.apply(lambda s: int(s, base=16))\n",
    "eval_ids.cell_id = eval_ids.cell_id.astype(pd.CategoricalDtype())\n",
    "eval_ids.gene_id = eval_ids.gene_id.astype(pd.CategoricalDtype())"
   ]
  },
  {
   "cell_type": "code",
   "execution_count": 26,
   "id": "c9e23816",
   "metadata": {
    "execution": {
     "iopub.execute_input": "2022-09-14T12:53:12.740396Z",
     "iopub.status.busy": "2022-09-14T12:53:12.739411Z",
     "iopub.status.idle": "2022-09-14T12:53:44.946015Z",
     "shell.execute_reply": "2022-09-14T12:53:44.944625Z"
    },
    "papermill": {
     "duration": 32.374058,
     "end_time": "2022-09-14T12:53:45.026030",
     "exception": false,
     "start_time": "2022-09-14T12:53:12.651972",
     "status": "completed"
    },
    "tags": [],
    "vscode": {
     "languageId": "python"
    }
   },
   "outputs": [
    {
     "data": {
      "text/plain": [
       "row_id    cell_id       gene_id        \n",
       "0         c2150f55becb  CD86              NaN\n",
       "1         c2150f55becb  CD274             NaN\n",
       "2         c2150f55becb  CD270             NaN\n",
       "3         c2150f55becb  CD155             NaN\n",
       "4         c2150f55becb  CD112             NaN\n",
       "                                           ..\n",
       "65744175  2c53aa67933d  ENSG00000134419   NaN\n",
       "65744176  2c53aa67933d  ENSG00000186862   NaN\n",
       "65744177  2c53aa67933d  ENSG00000170959   NaN\n",
       "65744178  2c53aa67933d  ENSG00000107874   NaN\n",
       "65744179  2c53aa67933d  ENSG00000166012   NaN\n",
       "Name: target, Length: 65744180, dtype: float32"
      ]
     },
     "execution_count": 26,
     "metadata": {},
     "output_type": "execute_result"
    }
   ],
   "source": [
    "# Prepare an empty series which will be filled with predictions\n",
    "submission = pd.Series(name='target',\n",
    "                       index=pd.MultiIndex.from_frame(eval_ids), \n",
    "                       dtype=np.float32)\n",
    "submission"
   ]
  },
  {
   "cell_type": "markdown",
   "id": "91dfb733",
   "metadata": {
    "papermill": {
     "duration": 0.078645,
     "end_time": "2022-09-14T12:53:45.183519",
     "exception": false,
     "start_time": "2022-09-14T12:53:45.104874",
     "status": "completed"
    },
    "tags": []
   },
   "source": [
    "We load the `index`  and `columns` of the original dataframe, as we need them to make the submission."
   ]
  },
  {
   "cell_type": "code",
   "execution_count": 27,
   "id": "feea2b42",
   "metadata": {
    "execution": {
     "iopub.execute_input": "2022-09-14T12:53:45.341465Z",
     "iopub.status.busy": "2022-09-14T12:53:45.340985Z",
     "iopub.status.idle": "2022-09-14T12:53:45.450980Z",
     "shell.execute_reply": "2022-09-14T12:53:45.449802Z"
    },
    "papermill": {
     "duration": 0.191948,
     "end_time": "2022-09-14T12:53:45.453792",
     "exception": false,
     "start_time": "2022-09-14T12:53:45.261844",
     "status": "completed"
    },
    "tags": [],
    "vscode": {
     "languageId": "python"
    }
   },
   "outputs": [
    {
     "name": "stdout",
     "output_type": "stream",
     "text": [
      "Wall time: 29 ms\n"
     ]
    }
   ],
   "source": [
    "%%time\n",
    "y_columns = np.load(\"C:/Users/Owner/Documents/dev/open-problem/multimodal-single-cell-as-sparse-matrix/train_multi_targets_idxcol.npz\",\n",
    "                   allow_pickle=True)[\"columns\"]\n",
    "\n",
    "test_index = np.load(\"C:/Users/Owner/Documents/dev/open-problem/multimodal-single-cell-as-sparse-matrix/test_multi_inputs_idxcol.npz\",\n",
    "                    allow_pickle=True)[\"index\"]"
   ]
  },
  {
   "cell_type": "markdown",
   "id": "e9aca7fb",
   "metadata": {
    "papermill": {
     "duration": 0.077341,
     "end_time": "2022-09-14T12:53:45.609179",
     "exception": false,
     "start_time": "2022-09-14T12:53:45.531838",
     "status": "completed"
    },
    "tags": []
   },
   "source": [
    "We assign the predicted values to the correct row in the submission file."
   ]
  },
  {
   "cell_type": "code",
   "execution_count": 28,
   "id": "14e1b787",
   "metadata": {
    "execution": {
     "iopub.execute_input": "2022-09-14T12:53:45.770449Z",
     "iopub.status.busy": "2022-09-14T12:53:45.769300Z",
     "iopub.status.idle": "2022-09-14T12:53:45.802678Z",
     "shell.execute_reply": "2022-09-14T12:53:45.801490Z"
    },
    "papermill": {
     "duration": 0.118845,
     "end_time": "2022-09-14T12:53:45.805694",
     "exception": false,
     "start_time": "2022-09-14T12:53:45.686849",
     "status": "completed"
    },
    "tags": [],
    "vscode": {
     "languageId": "python"
    }
   },
   "outputs": [],
   "source": [
    "cell_dict = dict((k,v) for v,k in enumerate(test_index)) \n",
    "assert len(cell_dict)  == len(test_index)\n",
    "\n",
    "gene_dict = dict((k,v) for v,k in enumerate(y_columns))\n",
    "assert len(gene_dict) == len(y_columns)"
   ]
  },
  {
   "cell_type": "code",
   "execution_count": 29,
   "id": "fa5775ba",
   "metadata": {
    "execution": {
     "iopub.execute_input": "2022-09-14T12:53:45.961289Z",
     "iopub.status.busy": "2022-09-14T12:53:45.960759Z",
     "iopub.status.idle": "2022-09-14T12:53:51.509296Z",
     "shell.execute_reply": "2022-09-14T12:53:51.507769Z"
    },
    "papermill": {
     "duration": 5.630603,
     "end_time": "2022-09-14T12:53:51.512582",
     "exception": false,
     "start_time": "2022-09-14T12:53:45.881979",
     "status": "completed"
    },
    "tags": [],
    "vscode": {
     "languageId": "python"
    }
   },
   "outputs": [],
   "source": [
    "eval_ids_cell_num = eval_ids.cell_id.apply(lambda x:cell_dict.get(x, -1))\n",
    "eval_ids_gene_num = eval_ids.gene_id.apply(lambda x:gene_dict.get(x, -1))\n",
    "\n",
    "valid_multi_rows = (eval_ids_gene_num !=-1) & (eval_ids_cell_num!=-1)"
   ]
  },
  {
   "cell_type": "code",
   "execution_count": 30,
   "id": "4bea83ec",
   "metadata": {
    "execution": {
     "iopub.execute_input": "2022-09-14T12:53:51.668755Z",
     "iopub.status.busy": "2022-09-14T12:53:51.668262Z",
     "iopub.status.idle": "2022-09-14T12:53:57.158453Z",
     "shell.execute_reply": "2022-09-14T12:53:57.156984Z"
    },
    "papermill": {
     "duration": 5.572678,
     "end_time": "2022-09-14T12:53:57.162081",
     "exception": false,
     "start_time": "2022-09-14T12:53:51.589403",
     "status": "completed"
    },
    "tags": [],
    "vscode": {
     "languageId": "python"
    }
   },
   "outputs": [],
   "source": [
    "submission.iloc[valid_multi_rows] = preds[eval_ids_cell_num[valid_multi_rows].to_numpy(),\n",
    "eval_ids_gene_num[valid_multi_rows].to_numpy()]"
   ]
  },
  {
   "cell_type": "code",
   "execution_count": 31,
   "id": "c86ff01a",
   "metadata": {
    "execution": {
     "iopub.execute_input": "2022-09-14T12:53:57.321560Z",
     "iopub.status.busy": "2022-09-14T12:53:57.320685Z",
     "iopub.status.idle": "2022-09-14T12:53:57.543556Z",
     "shell.execute_reply": "2022-09-14T12:53:57.542287Z"
    },
    "papermill": {
     "duration": 0.304955,
     "end_time": "2022-09-14T12:53:57.546264",
     "exception": false,
     "start_time": "2022-09-14T12:53:57.241309",
     "status": "completed"
    },
    "tags": [],
    "vscode": {
     "languageId": "python"
    }
   },
   "outputs": [
    {
     "data": {
      "text/plain": [
       "48"
      ]
     },
     "execution_count": 31,
     "metadata": {},
     "output_type": "execute_result"
    }
   ],
   "source": [
    "del eval_ids_cell_num, eval_ids_gene_num, valid_multi_rows, eval_ids, test_index, y_columns\n",
    "gc.collect()"
   ]
  },
  {
   "cell_type": "code",
   "execution_count": 32,
   "id": "16c2104e",
   "metadata": {
    "execution": {
     "iopub.execute_input": "2022-09-14T12:53:57.704851Z",
     "iopub.status.busy": "2022-09-14T12:53:57.703306Z",
     "iopub.status.idle": "2022-09-14T12:53:57.715892Z",
     "shell.execute_reply": "2022-09-14T12:53:57.714870Z"
    },
    "papermill": {
     "duration": 0.094514,
     "end_time": "2022-09-14T12:53:57.718253",
     "exception": false,
     "start_time": "2022-09-14T12:53:57.623739",
     "status": "completed"
    },
    "tags": [],
    "vscode": {
     "languageId": "python"
    }
   },
   "outputs": [
    {
     "data": {
      "text/plain": [
       "row_id    cell_id       gene_id        \n",
       "0         c2150f55becb  CD86                    NaN\n",
       "1         c2150f55becb  CD274                   NaN\n",
       "2         c2150f55becb  CD270                   NaN\n",
       "3         c2150f55becb  CD155                   NaN\n",
       "4         c2150f55becb  CD112                   NaN\n",
       "                                             ...   \n",
       "65744175  2c53aa67933d  ENSG00000134419    6.109375\n",
       "65744176  2c53aa67933d  ENSG00000186862    0.033661\n",
       "65744177  2c53aa67933d  ENSG00000170959    0.045166\n",
       "65744178  2c53aa67933d  ENSG00000107874    1.147461\n",
       "65744179  2c53aa67933d  ENSG00000166012    5.160156\n",
       "Name: target, Length: 65744180, dtype: float32"
      ]
     },
     "execution_count": 32,
     "metadata": {},
     "output_type": "execute_result"
    }
   ],
   "source": [
    "submission"
   ]
  },
  {
   "cell_type": "markdown",
   "id": "da37afca",
   "metadata": {
    "papermill": {
     "duration": 0.085262,
     "end_time": "2022-09-14T12:53:57.888898",
     "exception": false,
     "start_time": "2022-09-14T12:53:57.803636",
     "status": "completed"
    },
    "tags": []
   },
   "source": [
    "# Merging with CITEseq predictions\n",
    "\n",
    "We use the CITEseq predictions from [this notebook](https://www.kaggle.com/code/vuonglam/lgbm-baseline-optuna-drop-constant-cite-task) by VuongLam."
   ]
  },
  {
   "cell_type": "code",
   "execution_count": 33,
   "id": "ba6209cb",
   "metadata": {
    "execution": {
     "iopub.execute_input": "2022-09-14T12:53:58.052177Z",
     "iopub.status.busy": "2022-09-14T12:53:58.051679Z",
     "iopub.status.idle": "2022-09-14T12:53:58.208101Z",
     "shell.execute_reply": "2022-09-14T12:53:58.206302Z"
    },
    "papermill": {
     "duration": 0.24166,
     "end_time": "2022-09-14T12:53:58.210780",
     "exception": false,
     "start_time": "2022-09-14T12:53:57.969120",
     "status": "completed"
    },
    "tags": [],
    "vscode": {
     "languageId": "python"
    }
   },
   "outputs": [],
   "source": [
    "submission.reset_index(drop=True, inplace=True)\n",
    "submission.index.name = 'row_id'"
   ]
  },
  {
   "cell_type": "code",
   "execution_count": 34,
   "id": "6c327f55",
   "metadata": {
    "execution": {
     "iopub.execute_input": "2022-09-14T12:53:58.371191Z",
     "iopub.status.busy": "2022-09-14T12:53:58.370698Z",
     "iopub.status.idle": "2022-09-14T12:54:25.386260Z",
     "shell.execute_reply": "2022-09-14T12:54:25.384877Z"
    },
    "papermill": {
     "duration": 27.098553,
     "end_time": "2022-09-14T12:54:25.389839",
     "exception": false,
     "start_time": "2022-09-14T12:53:58.291286",
     "status": "completed"
    },
    "tags": [],
    "vscode": {
     "languageId": "python"
    }
   },
   "outputs": [],
   "source": [
    "cite_submission = pd.read_csv(\"C:/Users/Owner/Documents/dev/open-problem/citeseq/submission_svd256_wdo.csv\")\n",
    "cite_submission = cite_submission.set_index(\"row_id\")\n",
    "cite_submission = cite_submission[\"target\"]"
   ]
  },
  {
   "cell_type": "code",
   "execution_count": 35,
   "id": "4ff86b80",
   "metadata": {
    "execution": {
     "iopub.execute_input": "2022-09-14T12:54:25.548153Z",
     "iopub.status.busy": "2022-09-14T12:54:25.547155Z",
     "iopub.status.idle": "2022-09-14T12:54:28.255442Z",
     "shell.execute_reply": "2022-09-14T12:54:28.254086Z"
    },
    "papermill": {
     "duration": 2.790311,
     "end_time": "2022-09-14T12:54:28.258750",
     "exception": false,
     "start_time": "2022-09-14T12:54:25.468439",
     "status": "completed"
    },
    "tags": [],
    "vscode": {
     "languageId": "python"
    }
   },
   "outputs": [],
   "source": [
    "submission[submission.isnull()] = cite_submission[submission.isnull()]"
   ]
  },
  {
   "cell_type": "code",
   "execution_count": 36,
   "id": "a7a85d0a",
   "metadata": {
    "execution": {
     "iopub.execute_input": "2022-09-14T12:54:28.420265Z",
     "iopub.status.busy": "2022-09-14T12:54:28.419027Z",
     "iopub.status.idle": "2022-09-14T12:54:28.428223Z",
     "shell.execute_reply": "2022-09-14T12:54:28.426901Z"
    },
    "papermill": {
     "duration": 0.09219,
     "end_time": "2022-09-14T12:54:28.430572",
     "exception": false,
     "start_time": "2022-09-14T12:54:28.338382",
     "status": "completed"
    },
    "tags": [],
    "vscode": {
     "languageId": "python"
    }
   },
   "outputs": [
    {
     "data": {
      "text/plain": [
       "row_id\n",
       "0           0.094605\n",
       "1          -0.162362\n",
       "2          -0.405332\n",
       "3          -0.302582\n",
       "4           1.114355\n",
       "              ...   \n",
       "65744175    6.109375\n",
       "65744176    0.033661\n",
       "65744177    0.045166\n",
       "65744178    1.147461\n",
       "65744179    5.160156\n",
       "Name: target, Length: 65744180, dtype: float32"
      ]
     },
     "execution_count": 36,
     "metadata": {},
     "output_type": "execute_result"
    }
   ],
   "source": [
    "submission"
   ]
  },
  {
   "cell_type": "code",
   "execution_count": 37,
   "id": "1106e3cd",
   "metadata": {
    "execution": {
     "iopub.execute_input": "2022-09-14T12:54:28.587970Z",
     "iopub.status.busy": "2022-09-14T12:54:28.587092Z",
     "iopub.status.idle": "2022-09-14T12:54:28.595680Z",
     "shell.execute_reply": "2022-09-14T12:54:28.594791Z"
    },
    "papermill": {
     "duration": 0.089575,
     "end_time": "2022-09-14T12:54:28.597886",
     "exception": false,
     "start_time": "2022-09-14T12:54:28.508311",
     "status": "completed"
    },
    "tags": [],
    "vscode": {
     "languageId": "python"
    }
   },
   "outputs": [
    {
     "data": {
      "text/plain": [
       "row_id\n",
       "0           0.094605\n",
       "1          -0.162362\n",
       "2          -0.405332\n",
       "3          -0.302582\n",
       "4           1.114355\n",
       "              ...   \n",
       "65744175    6.109375\n",
       "65744176    0.033661\n",
       "65744177    0.045166\n",
       "65744178    1.147461\n",
       "65744179    5.160156\n",
       "Name: target, Length: 65744180, dtype: float32"
      ]
     },
     "execution_count": 37,
     "metadata": {},
     "output_type": "execute_result"
    }
   ],
   "source": [
    "submission"
   ]
  },
  {
   "cell_type": "code",
   "execution_count": 38,
   "id": "7de03024",
   "metadata": {
    "execution": {
     "iopub.execute_input": "2022-09-14T12:54:28.756955Z",
     "iopub.status.busy": "2022-09-14T12:54:28.755950Z",
     "iopub.status.idle": "2022-09-14T12:54:28.839652Z",
     "shell.execute_reply": "2022-09-14T12:54:28.838394Z"
    },
    "papermill": {
     "duration": 0.166614,
     "end_time": "2022-09-14T12:54:28.842399",
     "exception": false,
     "start_time": "2022-09-14T12:54:28.675785",
     "status": "completed"
    },
    "tags": [],
    "vscode": {
     "languageId": "python"
    }
   },
   "outputs": [
    {
     "data": {
      "text/plain": [
       "False"
      ]
     },
     "execution_count": 38,
     "metadata": {},
     "output_type": "execute_result"
    }
   ],
   "source": [
    "submission.isnull().any()"
   ]
  },
  {
   "cell_type": "code",
   "execution_count": 39,
   "id": "2812e841",
   "metadata": {
    "execution": {
     "iopub.execute_input": "2022-09-14T12:54:29.001681Z",
     "iopub.status.busy": "2022-09-14T12:54:29.001191Z",
     "iopub.status.idle": "2022-09-14T12:56:48.290673Z",
     "shell.execute_reply": "2022-09-14T12:56:48.289133Z"
    },
    "papermill": {
     "duration": 139.373387,
     "end_time": "2022-09-14T12:56:48.294365",
     "exception": false,
     "start_time": "2022-09-14T12:54:28.920978",
     "status": "completed"
    },
    "tags": [],
    "vscode": {
     "languageId": "python"
    }
   },
   "outputs": [],
   "source": [
    "submission.to_csv(submission_name)"
   ]
  },
  {
   "cell_type": "code",
   "execution_count": 40,
   "id": "42de96e4",
   "metadata": {
    "execution": {
     "iopub.execute_input": "2022-09-14T12:56:48.456331Z",
     "iopub.status.busy": "2022-09-14T12:56:48.455788Z",
     "iopub.status.idle": "2022-09-14T12:56:49.812240Z",
     "shell.execute_reply": "2022-09-14T12:56:49.810868Z"
    },
    "papermill": {
     "duration": 1.440449,
     "end_time": "2022-09-14T12:56:49.815424",
     "exception": false,
     "start_time": "2022-09-14T12:56:48.374975",
     "status": "completed"
    },
    "tags": [],
    "vscode": {
     "languageId": "python"
    }
   },
   "outputs": [
    {
     "name": "stderr",
     "output_type": "stream",
     "text": [
      "'head' �́A�����R�}���h�܂��͊O���R�}���h�A\n",
      "����\\�ȃv���O�����܂��̓o�b�` �t�@�C���Ƃ��ĔF������Ă��܂���B\n"
     ]
    }
   ],
   "source": [
    "!head submission.csv"
   ]
  },
  {
   "cell_type": "code",
   "execution_count": 41,
   "id": "f61ecc8b",
   "metadata": {
    "execution": {
     "iopub.execute_input": "2022-09-14T12:56:49.978923Z",
     "iopub.status.busy": "2022-09-14T12:56:49.977993Z",
     "iopub.status.idle": "2022-09-14T12:56:51.267457Z",
     "shell.execute_reply": "2022-09-14T12:56:51.265383Z"
    },
    "papermill": {
     "duration": 1.376971,
     "end_time": "2022-09-14T12:56:51.271155",
     "exception": false,
     "start_time": "2022-09-14T12:56:49.894184",
     "status": "completed"
    },
    "tags": [],
    "vscode": {
     "languageId": "python"
    }
   },
   "outputs": [
    {
     "name": "stderr",
     "output_type": "stream",
     "text": [
      "'head' �́A�����R�}���h�܂��͊O���R�}���h�A\n",
      "����\\�ȃv���O�����܂��̓o�b�` �t�@�C���Ƃ��ĔF������Ă��܂���B\n"
     ]
    }
   ],
   "source": [
    "!head submission.csv"
   ]
  },
  {
   "cell_type": "code",
   "execution_count": null,
   "id": "5a06a59e",
   "metadata": {
    "papermill": {
     "duration": 0.077969,
     "end_time": "2022-09-14T12:56:51.429014",
     "exception": false,
     "start_time": "2022-09-14T12:56:51.351045",
     "status": "completed"
    },
    "tags": [],
    "vscode": {
     "languageId": "python"
    }
   },
   "outputs": [],
   "source": []
  }
 ],
 "metadata": {
  "kernelspec": {
   "display_name": "tf-gpu",
   "language": "python",
   "name": "tf-gpu"
  },
  "papermill": {
   "default_parameters": {},
   "duration": 22967.319479,
   "end_time": "2022-09-14T12:56:53.396256",
   "environment_variables": {},
   "exception": null,
   "input_path": "__notebook__.ipynb",
   "output_path": "__notebook__.ipynb",
   "parameters": {},
   "start_time": "2022-09-14T06:34:06.076777",
   "version": "2.3.4"
  },
  "vscode": {
   "interpreter": {
    "hash": "0dc5be61c8cf786c9afde4d6369564156d9ad36efd591152a3b3e204603eb87a"
   }
  }
 },
 "nbformat": 4,
 "nbformat_minor": 5
}
