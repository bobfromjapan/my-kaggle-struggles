{
 "cells": [
  {
   "cell_type": "code",
   "execution_count": 1,
   "id": "59a5d3e6",
   "metadata": {
    "_cell_guid": "b1076dfc-b9ad-4769-8c92-a6c4dae69d19",
    "_uuid": "8f2839f25d086af736a60e9eeb907d3b93b6e0e5",
    "execution": {
     "iopub.execute_input": "2022-09-26T11:45:58.372309Z",
     "iopub.status.busy": "2022-09-26T11:45:58.371806Z",
     "iopub.status.idle": "2022-09-26T11:45:58.837347Z",
     "shell.execute_reply": "2022-09-26T11:45:58.836379Z"
    },
    "papermill": {
     "duration": 0.473694,
     "end_time": "2022-09-26T11:45:58.839830",
     "exception": false,
     "start_time": "2022-09-26T11:45:58.366136",
     "status": "completed"
    },
    "tags": []
   },
   "outputs": [],
   "source": [
    "import glob\n",
    "from openslide import OpenSlide\n",
    "import tifffile as tiff\n",
    "import cv2\n",
    "import gc\n",
    "import os\n",
    "import pandas as pd\n",
    "\n",
    "files = glob.glob(\"../input/mayo-clinic-strip-ai/train/*.tif\")"
   ]
  },
  {
   "cell_type": "markdown",
   "id": "cf18aa9b",
   "metadata": {
    "papermill": {
     "duration": 0.002529,
     "end_time": "2022-09-26T11:45:58.845671",
     "exception": false,
     "start_time": "2022-09-26T11:45:58.843142",
     "status": "completed"
    },
    "tags": []
   },
   "source": [
    "## We can inspect image pixel size without loading image on RAM by using openslide"
   ]
  },
  {
   "cell_type": "code",
   "execution_count": 2,
   "id": "d967d750",
   "metadata": {
    "execution": {
     "iopub.execute_input": "2022-09-26T11:45:58.853329Z",
     "iopub.status.busy": "2022-09-26T11:45:58.851890Z",
     "iopub.status.idle": "2022-09-26T11:46:17.069417Z",
     "shell.execute_reply": "2022-09-26T11:46:17.068413Z"
    },
    "papermill": {
     "duration": 18.223618,
     "end_time": "2022-09-26T11:46:17.071931",
     "exception": false,
     "start_time": "2022-09-26T11:45:58.848313",
     "status": "completed"
    },
    "tags": []
   },
   "outputs": [],
   "source": [
    "df = []\n",
    "for file in files:\n",
    "    slide = OpenSlide(file)\n",
    "    filesize = os.path.getsize(file)\n",
    "    df.append((file, slide.dimensions[0], slide.dimensions[1], slide.dimensions[0]*slide.dimensions[1], filesize))"
   ]
  },
  {
   "cell_type": "code",
   "execution_count": 3,
   "id": "7b880421",
   "metadata": {
    "execution": {
     "iopub.execute_input": "2022-09-26T11:46:17.079075Z",
     "iopub.status.busy": "2022-09-26T11:46:17.078741Z",
     "iopub.status.idle": "2022-09-26T11:46:17.088587Z",
     "shell.execute_reply": "2022-09-26T11:46:17.087683Z"
    },
    "papermill": {
     "duration": 0.015543,
     "end_time": "2022-09-26T11:46:17.090552",
     "exception": false,
     "start_time": "2022-09-26T11:46:17.075009",
     "status": "completed"
    },
    "tags": []
   },
   "outputs": [],
   "source": [
    "df = pd.DataFrame(df, columns=[\"path\", \"width\", \"height\", \"pixel_size\", \"file_size\"])"
   ]
  },
  {
   "cell_type": "code",
   "execution_count": 4,
   "id": "bae94f43",
   "metadata": {
    "execution": {
     "iopub.execute_input": "2022-09-26T11:46:17.097038Z",
     "iopub.status.busy": "2022-09-26T11:46:17.096776Z",
     "iopub.status.idle": "2022-09-26T11:46:17.124292Z",
     "shell.execute_reply": "2022-09-26T11:46:17.123407Z"
    },
    "papermill": {
     "duration": 0.03307,
     "end_time": "2022-09-26T11:46:17.126259",
     "exception": false,
     "start_time": "2022-09-26T11:46:17.093189",
     "status": "completed"
    },
    "tags": []
   },
   "outputs": [
    {
     "data": {
      "text/html": [
       "<div>\n",
       "<style scoped>\n",
       "    .dataframe tbody tr th:only-of-type {\n",
       "        vertical-align: middle;\n",
       "    }\n",
       "\n",
       "    .dataframe tbody tr th {\n",
       "        vertical-align: top;\n",
       "    }\n",
       "\n",
       "    .dataframe thead th {\n",
       "        text-align: right;\n",
       "    }\n",
       "</style>\n",
       "<table border=\"1\" class=\"dataframe\">\n",
       "  <thead>\n",
       "    <tr style=\"text-align: right;\">\n",
       "      <th></th>\n",
       "      <th>index</th>\n",
       "      <th>path</th>\n",
       "      <th>width</th>\n",
       "      <th>height</th>\n",
       "      <th>pixel_size</th>\n",
       "      <th>file_size</th>\n",
       "    </tr>\n",
       "  </thead>\n",
       "  <tbody>\n",
       "    <tr>\n",
       "      <th>0</th>\n",
       "      <td>157</td>\n",
       "      <td>../input/mayo-clinic-strip-ai/train/6baf51_0.tif</td>\n",
       "      <td>48282</td>\n",
       "      <td>101406</td>\n",
       "      <td>4896084492</td>\n",
       "      <td>1833979850</td>\n",
       "    </tr>\n",
       "    <tr>\n",
       "      <th>1</th>\n",
       "      <td>173</td>\n",
       "      <td>../input/mayo-clinic-strip-ai/train/b894f4_0.tif</td>\n",
       "      <td>91723</td>\n",
       "      <td>45045</td>\n",
       "      <td>4131662535</td>\n",
       "      <td>2770328890</td>\n",
       "    </tr>\n",
       "    <tr>\n",
       "      <th>2</th>\n",
       "      <td>183</td>\n",
       "      <td>../input/mayo-clinic-strip-ai/train/b07b42_0.tif</td>\n",
       "      <td>83747</td>\n",
       "      <td>47916</td>\n",
       "      <td>4012821252</td>\n",
       "      <td>2795473366</td>\n",
       "    </tr>\n",
       "    <tr>\n",
       "      <th>3</th>\n",
       "      <td>315</td>\n",
       "      <td>../input/mayo-clinic-strip-ai/train/3c2c23_0.tif</td>\n",
       "      <td>46014</td>\n",
       "      <td>86558</td>\n",
       "      <td>3982879812</td>\n",
       "      <td>1589098772</td>\n",
       "    </tr>\n",
       "    <tr>\n",
       "      <th>4</th>\n",
       "      <td>160</td>\n",
       "      <td>../input/mayo-clinic-strip-ai/train/3b7d81_0.tif</td>\n",
       "      <td>46019</td>\n",
       "      <td>81015</td>\n",
       "      <td>3728229285</td>\n",
       "      <td>925607978</td>\n",
       "    </tr>\n",
       "    <tr>\n",
       "      <th>5</th>\n",
       "      <td>253</td>\n",
       "      <td>../input/mayo-clinic-strip-ai/train/0415c3_0.tif</td>\n",
       "      <td>30560</td>\n",
       "      <td>118076</td>\n",
       "      <td>3608402560</td>\n",
       "      <td>930049526</td>\n",
       "    </tr>\n",
       "    <tr>\n",
       "      <th>6</th>\n",
       "      <td>282</td>\n",
       "      <td>../input/mayo-clinic-strip-ai/train/2db520_0.tif</td>\n",
       "      <td>41578</td>\n",
       "      <td>86564</td>\n",
       "      <td>3599157992</td>\n",
       "      <td>983264334</td>\n",
       "    </tr>\n",
       "    <tr>\n",
       "      <th>7</th>\n",
       "      <td>687</td>\n",
       "      <td>../input/mayo-clinic-strip-ai/train/f9569b_0.tif</td>\n",
       "      <td>46177</td>\n",
       "      <td>77440</td>\n",
       "      <td>3575946880</td>\n",
       "      <td>1566309064</td>\n",
       "    </tr>\n",
       "    <tr>\n",
       "      <th>8</th>\n",
       "      <td>293</td>\n",
       "      <td>../input/mayo-clinic-strip-ai/train/9874eb_0.tif</td>\n",
       "      <td>30599</td>\n",
       "      <td>112548</td>\n",
       "      <td>3443856252</td>\n",
       "      <td>941956192</td>\n",
       "    </tr>\n",
       "    <tr>\n",
       "      <th>9</th>\n",
       "      <td>87</td>\n",
       "      <td>../input/mayo-clinic-strip-ai/train/3982bf_0.tif</td>\n",
       "      <td>91723</td>\n",
       "      <td>37337</td>\n",
       "      <td>3424661651</td>\n",
       "      <td>1894761500</td>\n",
       "    </tr>\n",
       "    <tr>\n",
       "      <th>10</th>\n",
       "      <td>245</td>\n",
       "      <td>../input/mayo-clinic-strip-ai/train/53845a_0.tif</td>\n",
       "      <td>39417</td>\n",
       "      <td>83823</td>\n",
       "      <td>3304051191</td>\n",
       "      <td>1351333540</td>\n",
       "    </tr>\n",
       "    <tr>\n",
       "      <th>11</th>\n",
       "      <td>208</td>\n",
       "      <td>../input/mayo-clinic-strip-ai/train/fbdcde_1.tif</td>\n",
       "      <td>87735</td>\n",
       "      <td>37404</td>\n",
       "      <td>3281639940</td>\n",
       "      <td>2223778718</td>\n",
       "    </tr>\n",
       "    <tr>\n",
       "      <th>12</th>\n",
       "      <td>203</td>\n",
       "      <td>../input/mayo-clinic-strip-ai/train/3020ef_0.tif</td>\n",
       "      <td>85741</td>\n",
       "      <td>37879</td>\n",
       "      <td>3247783339</td>\n",
       "      <td>2019476964</td>\n",
       "    </tr>\n",
       "    <tr>\n",
       "      <th>13</th>\n",
       "      <td>422</td>\n",
       "      <td>../input/mayo-clinic-strip-ai/train/599e16_0.tif</td>\n",
       "      <td>39426</td>\n",
       "      <td>79207</td>\n",
       "      <td>3122815182</td>\n",
       "      <td>1222243334</td>\n",
       "    </tr>\n",
       "    <tr>\n",
       "      <th>14</th>\n",
       "      <td>332</td>\n",
       "      <td>../input/mayo-clinic-strip-ai/train/288156_0.tif</td>\n",
       "      <td>97705</td>\n",
       "      <td>31890</td>\n",
       "      <td>3115812450</td>\n",
       "      <td>2233503186</td>\n",
       "    </tr>\n",
       "    <tr>\n",
       "      <th>15</th>\n",
       "      <td>225</td>\n",
       "      <td>../input/mayo-clinic-strip-ai/train/cb1293_0.tif</td>\n",
       "      <td>93717</td>\n",
       "      <td>33084</td>\n",
       "      <td>3100533228</td>\n",
       "      <td>1704401736</td>\n",
       "    </tr>\n",
       "    <tr>\n",
       "      <th>16</th>\n",
       "      <td>85</td>\n",
       "      <td>../input/mayo-clinic-strip-ai/train/13f372_0.tif</td>\n",
       "      <td>89729</td>\n",
       "      <td>34355</td>\n",
       "      <td>3082639795</td>\n",
       "      <td>1843767106</td>\n",
       "    </tr>\n",
       "    <tr>\n",
       "      <th>17</th>\n",
       "      <td>277</td>\n",
       "      <td>../input/mayo-clinic-strip-ai/train/2bd8fe_0.tif</td>\n",
       "      <td>38322</td>\n",
       "      <td>80136</td>\n",
       "      <td>3070971792</td>\n",
       "      <td>1037142350</td>\n",
       "    </tr>\n",
       "    <tr>\n",
       "      <th>18</th>\n",
       "      <td>88</td>\n",
       "      <td>../input/mayo-clinic-strip-ai/train/6fce60_0.tif</td>\n",
       "      <td>77765</td>\n",
       "      <td>39386</td>\n",
       "      <td>3062852290</td>\n",
       "      <td>2828933566</td>\n",
       "    </tr>\n",
       "    <tr>\n",
       "      <th>19</th>\n",
       "      <td>357</td>\n",
       "      <td>../input/mayo-clinic-strip-ai/train/b1e363_1.tif</td>\n",
       "      <td>83747</td>\n",
       "      <td>36186</td>\n",
       "      <td>3030468942</td>\n",
       "      <td>1854513680</td>\n",
       "    </tr>\n",
       "  </tbody>\n",
       "</table>\n",
       "</div>"
      ],
      "text/plain": [
       "    index                                              path  width  height  \\\n",
       "0     157  ../input/mayo-clinic-strip-ai/train/6baf51_0.tif  48282  101406   \n",
       "1     173  ../input/mayo-clinic-strip-ai/train/b894f4_0.tif  91723   45045   \n",
       "2     183  ../input/mayo-clinic-strip-ai/train/b07b42_0.tif  83747   47916   \n",
       "3     315  ../input/mayo-clinic-strip-ai/train/3c2c23_0.tif  46014   86558   \n",
       "4     160  ../input/mayo-clinic-strip-ai/train/3b7d81_0.tif  46019   81015   \n",
       "5     253  ../input/mayo-clinic-strip-ai/train/0415c3_0.tif  30560  118076   \n",
       "6     282  ../input/mayo-clinic-strip-ai/train/2db520_0.tif  41578   86564   \n",
       "7     687  ../input/mayo-clinic-strip-ai/train/f9569b_0.tif  46177   77440   \n",
       "8     293  ../input/mayo-clinic-strip-ai/train/9874eb_0.tif  30599  112548   \n",
       "9      87  ../input/mayo-clinic-strip-ai/train/3982bf_0.tif  91723   37337   \n",
       "10    245  ../input/mayo-clinic-strip-ai/train/53845a_0.tif  39417   83823   \n",
       "11    208  ../input/mayo-clinic-strip-ai/train/fbdcde_1.tif  87735   37404   \n",
       "12    203  ../input/mayo-clinic-strip-ai/train/3020ef_0.tif  85741   37879   \n",
       "13    422  ../input/mayo-clinic-strip-ai/train/599e16_0.tif  39426   79207   \n",
       "14    332  ../input/mayo-clinic-strip-ai/train/288156_0.tif  97705   31890   \n",
       "15    225  ../input/mayo-clinic-strip-ai/train/cb1293_0.tif  93717   33084   \n",
       "16     85  ../input/mayo-clinic-strip-ai/train/13f372_0.tif  89729   34355   \n",
       "17    277  ../input/mayo-clinic-strip-ai/train/2bd8fe_0.tif  38322   80136   \n",
       "18     88  ../input/mayo-clinic-strip-ai/train/6fce60_0.tif  77765   39386   \n",
       "19    357  ../input/mayo-clinic-strip-ai/train/b1e363_1.tif  83747   36186   \n",
       "\n",
       "    pixel_size   file_size  \n",
       "0   4896084492  1833979850  \n",
       "1   4131662535  2770328890  \n",
       "2   4012821252  2795473366  \n",
       "3   3982879812  1589098772  \n",
       "4   3728229285   925607978  \n",
       "5   3608402560   930049526  \n",
       "6   3599157992   983264334  \n",
       "7   3575946880  1566309064  \n",
       "8   3443856252   941956192  \n",
       "9   3424661651  1894761500  \n",
       "10  3304051191  1351333540  \n",
       "11  3281639940  2223778718  \n",
       "12  3247783339  2019476964  \n",
       "13  3122815182  1222243334  \n",
       "14  3115812450  2233503186  \n",
       "15  3100533228  1704401736  \n",
       "16  3082639795  1843767106  \n",
       "17  3070971792  1037142350  \n",
       "18  3062852290  2828933566  \n",
       "19  3030468942  1854513680  "
      ]
     },
     "execution_count": 4,
     "metadata": {},
     "output_type": "execute_result"
    }
   ],
   "source": [
    "df = df.sort_values('pixel_size', ascending=False).reset_index()\n",
    "df.head(20)"
   ]
  },
  {
   "cell_type": "code",
   "execution_count": 5,
   "id": "aaccc040",
   "metadata": {
    "execution": {
     "iopub.execute_input": "2022-09-26T11:46:17.134926Z",
     "iopub.status.busy": "2022-09-26T11:46:17.133990Z",
     "iopub.status.idle": "2022-09-26T11:46:17.144195Z",
     "shell.execute_reply": "2022-09-26T11:46:17.143311Z"
    },
    "papermill": {
     "duration": 0.016848,
     "end_time": "2022-09-26T11:46:17.146222",
     "exception": false,
     "start_time": "2022-09-26T11:46:17.129374",
     "status": "completed"
    },
    "tags": []
   },
   "outputs": [],
   "source": [
    "df.to_csv(\"filesize_inspection.csv\")"
   ]
  },
  {
   "cell_type": "markdown",
   "id": "573c39e7",
   "metadata": {
    "papermill": {
     "duration": 0.002938,
     "end_time": "2022-09-26T11:46:17.152241",
     "exception": false,
     "start_time": "2022-09-26T11:46:17.149303",
     "status": "completed"
    },
    "tags": []
   },
   "source": [
    "## ↓These files can be read by tifffile."
   ]
  },
  {
   "cell_type": "code",
   "execution_count": 6,
   "id": "43b150df",
   "metadata": {
    "execution": {
     "iopub.execute_input": "2022-09-26T11:46:17.159298Z",
     "iopub.status.busy": "2022-09-26T11:46:17.159045Z",
     "iopub.status.idle": "2022-09-26T14:34:39.876475Z",
     "shell.execute_reply": "2022-09-26T14:34:39.875463Z"
    },
    "papermill": {
     "duration": 10102.724237,
     "end_time": "2022-09-26T14:34:39.879533",
     "exception": false,
     "start_time": "2022-09-26T11:46:17.155296",
     "status": "completed"
    },
    "tags": []
   },
   "outputs": [
    {
     "name": "stderr",
     "output_type": "stream",
     "text": [
      "100%|██████████| 753/753 [2:48:22<00:00, 13.42s/it]\n"
     ]
    }
   ],
   "source": [
    "import tqdm\n",
    "scale = 4\n",
    "\n",
    "for path in tqdm.tqdm(df[\"path\"][1:]):\n",
    "    # This downsample method is reffered from https://www.kaggle.com/code/tmyok1984/mayo-convert-tif-to-jpg, thanks!\n",
    "    image = tiff.imread(path)\n",
    "    cv2.imwrite(\"test.jpg\", image[::scale,::scale,::-1])\n",
    "    del image\n",
    "    gc.collect()"
   ]
  },
  {
   "cell_type": "markdown",
   "id": "1c0a3703",
   "metadata": {
    "papermill": {
     "duration": 0.067037,
     "end_time": "2022-09-26T14:34:40.016603",
     "exception": false,
     "start_time": "2022-09-26T14:34:39.949566",
     "status": "completed"
    },
    "tags": []
   },
   "source": [
    "## ↓This file cannot be read by tifffile!!"
   ]
  },
  {
   "cell_type": "code",
   "execution_count": 7,
   "id": "f80ec03d",
   "metadata": {
    "execution": {
     "iopub.execute_input": "2022-09-26T14:34:40.150824Z",
     "iopub.status.busy": "2022-09-26T14:34:40.150336Z",
     "iopub.status.idle": "2022-09-26T14:34:40.160466Z",
     "shell.execute_reply": "2022-09-26T14:34:40.159622Z"
    },
    "papermill": {
     "duration": 0.080036,
     "end_time": "2022-09-26T14:34:40.163079",
     "exception": false,
     "start_time": "2022-09-26T14:34:40.083043",
     "status": "completed"
    },
    "tags": []
   },
   "outputs": [
    {
     "data": {
      "text/plain": [
       "'../input/mayo-clinic-strip-ai/train/6baf51_0.tif'"
      ]
     },
     "execution_count": 7,
     "metadata": {},
     "output_type": "execute_result"
    }
   ],
   "source": [
    "df[\"path\"][0]"
   ]
  },
  {
   "cell_type": "code",
   "execution_count": 8,
   "id": "f6842338",
   "metadata": {
    "execution": {
     "iopub.execute_input": "2022-09-26T14:34:40.272467Z",
     "iopub.status.busy": "2022-09-26T14:34:40.272066Z",
     "iopub.status.idle": "2022-09-26T14:34:40.276402Z",
     "shell.execute_reply": "2022-09-26T14:34:40.275378Z"
    },
    "papermill": {
     "duration": 0.050079,
     "end_time": "2022-09-26T14:34:40.278657",
     "exception": false,
     "start_time": "2022-09-26T14:34:40.228578",
     "status": "completed"
    },
    "tags": []
   },
   "outputs": [],
   "source": [
    "# image = tiff.imread(df[\"path\"][0])\n",
    "# cv2.imwrite(\"test.jpg\", image[::scale,::scale,::-1])\n",
    "# del image\n",
    "# gc.collect()"
   ]
  },
  {
   "cell_type": "markdown",
   "id": "45af615d",
   "metadata": {
    "papermill": {
     "duration": 0.042188,
     "end_time": "2022-09-26T14:34:40.364000",
     "exception": false,
     "start_time": "2022-09-26T14:34:40.321812",
     "status": "completed"
    },
    "tags": []
   },
   "source": [
    "## Therefore, it may be possible to prevent OOM by skipping processing when pixel_size is `4131662535` or larger at the time of submission.\n",
    "## ※Strictly speaking, the amount of used memory and pixel_size do not correlate perfectly, and the amount of memory used varies depending on the process being performed, so `4131662535` is just a guideline."
   ]
  }
 ],
 "metadata": {
  "kernelspec": {
   "display_name": "Python 3",
   "language": "python",
   "name": "python3"
  },
  "language_info": {
   "codemirror_mode": {
    "name": "ipython",
    "version": 3
   },
   "file_extension": ".py",
   "mimetype": "text/x-python",
   "name": "python",
   "nbconvert_exporter": "python",
   "pygments_lexer": "ipython3",
   "version": "3.7.12"
  },
  "papermill": {
   "default_parameters": {},
   "duration": 10130.223421,
   "end_time": "2022-09-26T14:34:41.042546",
   "environment_variables": {},
   "exception": null,
   "input_path": "__notebook__.ipynb",
   "output_path": "__notebook__.ipynb",
   "parameters": {},
   "start_time": "2022-09-26T11:45:50.819125",
   "version": "2.3.4"
  }
 },
 "nbformat": 4,
 "nbformat_minor": 5
}
